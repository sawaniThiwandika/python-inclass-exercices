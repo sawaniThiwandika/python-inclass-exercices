{
 "cells": [
  {
   "cell_type": "code",
   "execution_count": 37,
   "metadata": {},
   "outputs": [
    {
     "name": "stdout",
     "output_type": "stream",
     "text": [
      "hello\n"
     ]
    }
   ],
   "source": [
    "print(\"hello\")"
   ]
  },
  {
   "cell_type": "code",
   "execution_count": null,
   "metadata": {},
   "outputs": [
    {
     "name": "stdout",
     "output_type": "stream",
     "text": [
      "200\n",
      "The type of variable having value 200 is <class 'int'>\n"
     ]
    }
   ],
   "source": [
    "# variable types chek  #\n",
    "a = 200\n",
    "print(a)\n",
    "print(\"The type of variable having value\",a,\"is\",type(a))"
   ]
  },
  {
   "cell_type": "code",
   "execution_count": null,
   "metadata": {},
   "outputs": [
    {
     "name": "stdout",
     "output_type": "stream",
     "text": [
      "(100+5j)\n",
      "The type of variable having value (100+5j) is <class 'complex'>\n"
     ]
    }
   ],
   "source": [
    "c= 100+5j\n",
    "print(c)\n",
    "print(\"The type of variable having value\",c,\"is\",type(c))"
   ]
  },
  {
   "cell_type": "code",
   "execution_count": null,
   "metadata": {},
   "outputs": [],
   "source": [
    "num_1 = 2.5e4\n",
    "print(num_1)\n",
    "print(\"The type of variable having value\",num_1,\"is\",type(num_1))\n"
   ]
  },
  {
   "cell_type": "code",
   "execution_count": null,
   "metadata": {},
   "outputs": [],
   "source": [
    "# casting#\n",
    "num_1 = 5\n",
    "num_2 = 12.4\n",
    "a = float(num_2-num_1)  #casting \n",
    "print(a,type(a))"
   ]
  },
  {
   "cell_type": "code",
   "execution_count": null,
   "metadata": {},
   "outputs": [
    {
     "name": "stdout",
     "output_type": "stream",
     "text": [
      "12 <class 'int'>\n"
     ]
    }
   ],
   "source": [
    "num_2 = 12.4\n",
    "b = int(num_2)\n",
    "print(b,type(b))"
   ]
  },
  {
   "cell_type": "code",
   "execution_count": null,
   "metadata": {},
   "outputs": [
    {
     "name": "stdout",
     "output_type": "stream",
     "text": [
      "<class 'list'>\n",
      "[1, 10, 15, 18]\n",
      "1\n"
     ]
    }
   ],
   "source": [
    "#python collectio four major data type \n",
    "#List,Tuple,Set,Dictionary\n",
    "#Python List \n",
    "my_list = [1,10,15,18]\n",
    "print(type(my_list))\n",
    "print(my_list)\n",
    "print(my_list[0])"
   ]
  },
  {
   "cell_type": "code",
   "execution_count": null,
   "metadata": {},
   "outputs": [
    {
     "name": "stdout",
     "output_type": "stream",
     "text": [
      "[1, 10, 45, 18]\n"
     ]
    }
   ],
   "source": [
    "#changing 2nd index value \n",
    "my_list = [1,10,15,18]\n",
    "my_list[2]=45\n",
    "print(my_list)"
   ]
  },
  {
   "cell_type": "code",
   "execution_count": null,
   "metadata": {},
   "outputs": [
    {
     "name": "stdout",
     "output_type": "stream",
     "text": [
      "[1, 10, 10, 'eat', 8, True] <class 'list'> 6\n"
     ]
    }
   ],
   "source": [
    "my_list =[1,10,10,\"eat\",8,True]\n",
    "print(my_list,type(my_list),len(my_list))"
   ]
  },
  {
   "cell_type": "code",
   "execution_count": null,
   "metadata": {},
   "outputs": [
    {
     "name": "stdout",
     "output_type": "stream",
     "text": [
      "True\n"
     ]
    }
   ],
   "source": [
    "#\n",
    "my_list =[1,10,10,\"eat\",8,True]\n",
    "print(my_list[-1])"
   ]
  },
  {
   "cell_type": "code",
   "execution_count": null,
   "metadata": {},
   "outputs": [
    {
     "name": "stdout",
     "output_type": "stream",
     "text": [
      "[10, 10, 'eat']\n"
     ]
    }
   ],
   "source": [
    "#sub indexing\n",
    "my_list =[1,10,10,\"eat\",8,True]\n",
    "print(my_list[1:4])#methan apita subset krana awashya index ekata ekak wadiyen deveni value eka dan naona.nattan apita awashya eka enne na.ekata ekak aduwen enne"
   ]
  },
  {
   "cell_type": "code",
   "execution_count": null,
   "metadata": {},
   "outputs": [
    {
     "name": "stdout",
     "output_type": "stream",
     "text": [
      "[1, 10, 10, 'eat']\n"
     ]
    }
   ],
   "source": [
    "my_list =[1,10,10,\"eat\",8,True]\n",
    "print(my_list[:3]) #api mul index eka 0 nisa eka danne na me widiyata thamaiapi o index ekai anith index ewai subset kraddi ganne"
   ]
  },
  {
   "cell_type": "code",
   "execution_count": null,
   "metadata": {},
   "outputs": [
    {
     "name": "stdout",
     "output_type": "stream",
     "text": [
      "['eat', 8, True]\n"
     ]
    }
   ],
   "source": [
    "my_list =[1,10,10,\"eat\",8,True]\n",
    "print(my_list[3:])#methana wenne apita sub set kran ona eka index ekaka idan lsit eke last index eka wenakm nm apita mehema subset kranna puluwan"
   ]
  },
  {
   "cell_type": "code",
   "execution_count": null,
   "metadata": {},
   "outputs": [
    {
     "name": "stdout",
     "output_type": "stream",
     "text": [
      "[1, 10, 'dog', 19.0, 8, True]\n"
     ]
    }
   ],
   "source": [
    "#Quection(2 & 3 indexes includes dog & 19.0)\n",
    "my_list =[1,10,10,\"eat\",8,True]\n",
    "my_list[2:4] = \"dog\",19.0\n",
    "print(my_list)"
   ]
  },
  {
   "cell_type": "code",
   "execution_count": null,
   "metadata": {},
   "outputs": [
    {
     "name": "stdout",
     "output_type": "stream",
     "text": [
      "[1, 10, 10, 'rabbit', 'eat', 8, True] 7\n"
     ]
    }
   ],
   "source": [
    "#insert\n",
    "my_list =[1,10,10,\"eat\",8,True]\n",
    "my_list.insert(3,\"rabbit\")\n",
    "print(my_list,len(my_list))"
   ]
  },
  {
   "cell_type": "code",
   "execution_count": null,
   "metadata": {},
   "outputs": [
    {
     "name": "stdout",
     "output_type": "stream",
     "text": [
      "[1, 10, 10, 'eat', 8, True, 'car', 'car'] 8\n"
     ]
    }
   ],
   "source": [
    "#append(incluede new index in array end)\n",
    "my_list =[1,10,10,\"eat\",8,True]\n",
    "my_list.append(\"car\")\n",
    "print(my_list,len(my_list))"
   ]
  },
  {
   "cell_type": "code",
   "execution_count": null,
   "metadata": {},
   "outputs": [
    {
     "name": "stdout",
     "output_type": "stream",
     "text": [
      "[1, 10, 10, 'eat', 8, True, 24, '10', 10, 'Beat', 'BUs', False]\n"
     ]
    }
   ],
   "source": [
    "#extend lits\n",
    "my_list =[1,10,10,\"eat\",8,True]\n",
    "new_list =[24,\"10\",10,\"Beat\",\"BUs\",False]\n",
    "my_list.extend(new_list)\n",
    "print(my_list)"
   ]
  },
  {
   "cell_type": "code",
   "execution_count": null,
   "metadata": {},
   "outputs": [
    {
     "name": "stdout",
     "output_type": "stream",
     "text": [
      "[1, 10, 10, 'eat', True]\n"
     ]
    }
   ],
   "source": [
    "#remove index\n",
    "my_list =[1,10,10,\"eat\",8,True]\n",
    "my_list.pop(4)\n",
    "print(my_list)"
   ]
  },
  {
   "cell_type": "code",
   "execution_count": null,
   "metadata": {},
   "outputs": [
    {
     "name": "stdout",
     "output_type": "stream",
     "text": [
      "[1, 10, 10, 8, True]\n"
     ]
    }
   ],
   "source": [
    "#remove value\n",
    "my_list =[1,10,10,\"eat\",8,True]\n",
    "my_list.remove(\"eat\")\n",
    "print(my_list)"
   ]
  },
  {
   "cell_type": "code",
   "execution_count": null,
   "metadata": {},
   "outputs": [],
   "source": [
    "#delete list \n",
    "my_list =[1,10,10,\"eat\",8,True]\n",
    "del my_list\n"
   ]
  },
  {
   "cell_type": "code",
   "execution_count": null,
   "metadata": {},
   "outputs": [
    {
     "name": "stdout",
     "output_type": "stream",
     "text": [
      "0 []\n"
     ]
    }
   ],
   "source": [
    "#Clear(all indexes are removed)\n",
    "my_list =[1,10,10,\"eat\",8,True]\n",
    "my_list.clear()\n",
    "print(len(my_list),my_list)"
   ]
  },
  {
   "cell_type": "code",
   "execution_count": null,
   "metadata": {},
   "outputs": [
    {
     "name": "stdout",
     "output_type": "stream",
     "text": [
      "['Beans', 'apple', 'banana', 'rice']\n"
     ]
    }
   ],
   "source": [
    "#sort array(by default sort)\n",
    "my_list = [\"banana\",\"apple\",\"beans\",\"rice\"]\n",
    "my_list.sort()\n",
    "print(my_list)"
   ]
  },
  {
   "cell_type": "code",
   "execution_count": null,
   "metadata": {},
   "outputs": [
    {
     "name": "stdout",
     "output_type": "stream",
     "text": [
      "['Beans', 'apple', 'banana', 'rice']\n"
     ]
    }
   ],
   "source": [
    "#Case sensitive sort\n",
    "#capital letters include value.this value is priority. capital lettr include word in any placecs.this word priority.\n",
    "my_list = [\"banana\",\"apple\",\"Beans\",\"rice\"]\n",
    "my_list.sort()\n",
    "print(my_list)"
   ]
  },
  {
   "cell_type": "code",
   "execution_count": null,
   "metadata": {},
   "outputs": [
    {
     "name": "stdout",
     "output_type": "stream",
     "text": [
      "['apple', 'banana', 'Beans', 'dog', 'rice']\n"
     ]
    }
   ],
   "source": [
    "#Case insensitive sort(accendin)\n",
    "my_list = [\"dog\",\"banana\",\"apple\",\"Beans\",\"rice\"] \n",
    "my_list.sort(key=str.lower)\n",
    "print(my_list)"
   ]
  },
  {
   "cell_type": "code",
   "execution_count": null,
   "metadata": {},
   "outputs": [
    {
     "name": "stdout",
     "output_type": "stream",
     "text": [
      "['rice', 'dog', 'banana', 'apple', 'Beans']\n"
     ]
    }
   ],
   "source": [
    "#Case insensitive sort(deccending)\n",
    "my_list = [\"dog\",\"banana\",\"apple\",\"Beans\",\"rice\"] \n",
    "my_list.sort(reverse=True)\n",
    "print(my_list)"
   ]
  },
  {
   "cell_type": "code",
   "execution_count": null,
   "metadata": {},
   "outputs": [
    {
     "name": "stdout",
     "output_type": "stream",
     "text": [
      "['rice', 'Beans', 'apple', 'banana', 'dog']\n"
     ]
    }
   ],
   "source": [
    "#change array order(not accending or diccending)\n",
    "my_list = [\"dog\",\"banana\",\"apple\",\"Beans\",\"rice\"] \n",
    "my_list.reverse()\n",
    "print(my_list)"
   ]
  },
  {
   "cell_type": "code",
   "execution_count": null,
   "metadata": {},
   "outputs": [
    {
     "ename": "SyntaxError",
     "evalue": "expected ':' (2015437312.py, line 34)",
     "output_type": "error",
     "traceback": [
      "\u001b[1;36m  Cell \u001b[1;32mIn[11], line 34\u001b[1;36m\u001b[0m\n\u001b[1;33m    if()\u001b[0m\n\u001b[1;37m        ^\u001b[0m\n\u001b[1;31mSyntaxError\u001b[0m\u001b[1;31m:\u001b[0m expected ':'\n"
     ]
    }
   ],
   "source": [
    "my_list1 = [-10,-18,12,5,7,12,-3]\n",
    "my_list2 = [8,4,-3,9,2,11]\n",
    "my_list1.extend(my_list2)\n",
    "print(my_list1)\n",
    "\n",
    "my_list1.sort()\n",
    "print(\"sort list\",my_list1)\n",
    "list_length = len(my_list1)\n",
    "if(list_length%2 == 0):\n",
    "    median = my_list1[list_length//2-1]\n",
    "   \n",
    "\n",
    "else:\n",
    "    median= my_list1[list_length//2]\n",
    "    print(\"median\",median)\n",
    "    list_Q1 = []\n",
    "    \n",
    "    median_index = my_list1.index(median)\n",
    "    list_Q1 = my_list1[0:median_index+1]\n",
    "    print(list_Q1)\n",
    "    list_Q1_length =len(list_Q1)\n",
    "    if( list_Q1_length%2 == 0):\n",
    "        q1 = my_list1[list_Q1_length//2-1]\n",
    "        print(\"Q1\",q1)\n",
    "       \n",
    "    else:\n",
    "        list_Q1 = []\n",
    "        median_index = my_list1.index(median)\n",
    "        list_Q1 = my_list1[median_index:]\n",
    "        print(list_Q1)\n",
    "        list_Q1_length =len(list_Q1)\n",
    "        q1 = my_list1[list_Q1_length//2]\n",
    "        print(\"Q1\",q1)\n",
    "    if()"
   ]
  },
  {
   "cell_type": "code",
   "execution_count": null,
   "metadata": {},
   "outputs": [
    {
     "name": "stdout",
     "output_type": "stream",
     "text": [
      "<class 'str'>\n",
      "<class 'tuple'>\n",
      "['cat']\n",
      "<class 'list'>\n",
      "<class 'tuple'>\n",
      "('cat',)\n"
     ]
    }
   ],
   "source": [
    "my_tuple_1=(\"Dog\")\n",
    "print(type(my_tuple_1))# give the type as string (because t has only one element and does not add , after that)\n",
    "my_tuple_2=(\"cat\",)\n",
    "print(type(my_tuple_2))# give type as tuple because in this already add , after the elemnt in my_tuple_2\n",
    "\n",
    "\n",
    "\n",
    "my_tuple_2=list(my_tuple_2)# convert tuple to list\n",
    "print(my_tuple_2)\n",
    "print(type(my_tuple_2))\n",
    "my_tuple_2=tuple(my_tuple_2)# use tuple constructor and convert list to tuple again\n",
    "print(type(my_tuple_2))\n",
    "print(my_tuple_2)"
   ]
  },
  {
   "cell_type": "code",
   "execution_count": null,
   "metadata": {},
   "outputs": [],
   "source": [
    "my_tuple_1=(10,8,20,5)\n",
    "my_tuple_2=(5,9,-1)\n",
    "my_tuple_1=list(my_tuple_1)\n",
    "my_tuple_2=list(my_tuple_2)\n",
    "my_tuple_1.remove(20)\n",
    "my_tuple_1.extend(my_tuple_2)\n",
    "my_tuple_1.sort()\n",
    "my_tuple_1=tuple(my_tuple_1)\n",
    "\n",
    "\n",
    "\n",
    "print(my_tuple_1)"
   ]
  },
  {
   "cell_type": "code",
   "execution_count": null,
   "metadata": {},
   "outputs": [],
   "source": [
    "my_tuple=((1,10,8),(\"dog\",\"cat\",\"rat\"),(True,False))\n",
    "print(my_tuple[0][1])\n",
    "print(my_tuple[1][1])\n",
    "print(my_tuple[2][0])"
   ]
  },
  {
   "cell_type": "code",
   "execution_count": null,
   "metadata": {},
   "outputs": [
    {
     "name": "stdout",
     "output_type": "stream",
     "text": [
      "{'name': 'suger', 'price': 120}\n",
      "<class 'dict'>\n",
      "suger\n"
     ]
    }
   ],
   "source": [
    "dic_1={\n",
    "    \"name\":\"suger\",\n",
    "    \"price\":250.00,\n",
    "    \"price\":120# dictionary does not support for duplicate values\n",
    "}\n",
    "print(dic_1)\n",
    "print(type(dic_1))\n",
    "print(dic_1[\"name\"])#access the value of name(in here, use the key as index)"
   ]
  },
  {
   "cell_type": "code",
   "execution_count": null,
   "metadata": {},
   "outputs": [
    {
     "name": "stdout",
     "output_type": "stream",
     "text": [
      "{'name': 'suger', 'price': 120}\n",
      "{'name': 'suger', 'price': 120, 'color': 'red'}\n"
     ]
    }
   ],
   "source": [
    "dic_1={\n",
    "    \"name\":\"suger\",\n",
    "    \"price\":250.00,\n",
    "    \"price\":120# dictionary does not support for duplicate values\n",
    "}\n",
    "print(dic_1)\n",
    "\n",
    "dic_1[\"color\"]=\"red\" # add new item to dic that already declred\n",
    "print(dic_1)"
   ]
  },
  {
   "cell_type": "code",
   "execution_count": null,
   "metadata": {},
   "outputs": [
    {
     "name": "stdout",
     "output_type": "stream",
     "text": [
      "{'name': 'suger', 'price': 120}\n",
      "{'name': 'suger', 'price': 120, 'color': 'red'}\n",
      "{'name': 'suger', 'price': 120}\n",
      "{'name': 'suger'}\n"
     ]
    }
   ],
   "source": [
    "dic_1={\n",
    "    \"name\":\"suger\",\n",
    "    \"price\":250.00,\n",
    "    \"price\":120# dictionary does not support for duplicate values\n",
    "}\n",
    "print(dic_1)\n",
    "\n",
    "dic_1[\"color\"]=\"red\" # add new item to dic that already declred\n",
    "print(dic_1)\n",
    "\n",
    "dic_1.pop(\"color\")# remove an item from dic\n",
    "print(dic_1)\n",
    "dic_1.popitem()\n",
    "print(dic_1)# remove the last item of dic"
   ]
  },
  {
   "cell_type": "code",
   "execution_count": null,
   "metadata": {},
   "outputs": [
    {
     "name": "stdout",
     "output_type": "stream",
     "text": [
      "{'name': 'suger', 'price': 120}\n",
      "{'name': 'suger', 'price': 120, 'color': 'red'}\n",
      "{'name': 'suger', 'price': 120}\n",
      "{}\n"
     ]
    },
    {
     "ename": "NameError",
     "evalue": "name 'dic_1' is not defined",
     "output_type": "error",
     "traceback": [
      "\u001b[1;31m---------------------------------------------------------------------------\u001b[0m",
      "\u001b[1;31mNameError\u001b[0m                                 Traceback (most recent call last)",
      "Cell \u001b[1;32mIn[19], line 18\u001b[0m\n\u001b[0;32m     15\u001b[0m \u001b[38;5;28mprint\u001b[39m(dic_1)\n\u001b[0;32m     17\u001b[0m \u001b[38;5;28;01mdel\u001b[39;00m dic_1\n\u001b[1;32m---> 18\u001b[0m \u001b[38;5;28mprint\u001b[39m(\u001b[43mdic_1\u001b[49m)\n",
      "\u001b[1;31mNameError\u001b[0m: name 'dic_1' is not defined"
     ]
    }
   ],
   "source": [
    "dic_1={\n",
    "    \"name\":\"suger\",\n",
    "    \"price\":250.00,\n",
    "    \"price\":120# dictionary does not support for duplicate values\n",
    "}\n",
    "print(dic_1)\n",
    "\n",
    "dic_1[\"color\"]=\"red\" # add new item to dic that already declred\n",
    "print(dic_1)\n",
    "\n",
    "del dic_1[\"color\"]# distory specific value of dic\n",
    "print(dic_1)\n",
    "\n",
    "dic_1.clear()# remove all values of dic\n",
    "print(dic_1)\n",
    "\n",
    "del dic_1# ditroy whole dic\n",
    "print(dic_1)"
   ]
  },
  {
   "cell_type": "code",
   "execution_count": null,
   "metadata": {},
   "outputs": [
    {
     "name": "stdout",
     "output_type": "stream",
     "text": [
      "{'name': 'suger', 'price': 120}\n",
      "{'name': 'suger', 'price': 120, 'color': 'red'}\n",
      "{'name': 'suger', 'price': 120}\n"
     ]
    }
   ],
   "source": [
    "dic_1={\n",
    "    \"name\":\"suger\",\n",
    "    \"price\":250.00,\n",
    "    \"price\":120# dictionary does not support for duplicate values\n",
    "}\n",
    "dic_2=dic_1.copy()# copy the dic 1 items to dic2(also you can use dict constructor)\n",
    "print(dic_2)\n",
    "dic_1[\"color\"]=\"red\"\n",
    "print(dic_1)\n",
    "print(dic_2)\n"
   ]
  },
  {
   "cell_type": "code",
   "execution_count": null,
   "metadata": {},
   "outputs": [
    {
     "name": "stdout",
     "output_type": "stream",
     "text": [
      "dict_keys(['name', 'price', 'color'])\n"
     ]
    }
   ],
   "source": [
    "dic_1={\n",
    "    \"name\":\"suger\",\n",
    "    \"price\":250.00,\n",
    "    \"color\":\"red\"\n",
    "}\n",
    "print(dic_1.keys())# to get all keys at once"
   ]
  },
  {
   "cell_type": "code",
   "execution_count": null,
   "metadata": {},
   "outputs": [
    {
     "name": "stdout",
     "output_type": "stream",
     "text": [
      "3\n",
      "3.75\n",
      "0\n"
     ]
    }
   ],
   "source": [
    "a= 15//4# neglect the floting part\n",
    "b=15/4# give real value\n",
    "c=12%3# give remaining\n",
    "print(a)\n",
    "print(b)\n",
    "print(c)"
   ]
  },
  {
   "cell_type": "code",
   "execution_count": null,
   "metadata": {},
   "outputs": [
    {
     "name": "stdout",
     "output_type": "stream",
     "text": [
      "s\n"
     ]
    }
   ],
   "source": [
    "a=input(\"Enter a Value\")\n",
    "print(a)\n"
   ]
  },
  {
   "cell_type": "code",
   "execution_count": null,
   "metadata": {},
   "outputs": [
    {
     "name": "stdout",
     "output_type": "stream",
     "text": [
      "False\n"
     ]
    }
   ],
   "source": [
    "num=input(\"Enter a number\")\n",
    "\n",
    "x=int(num)%7\n",
    "print(num==0)\n",
    "\n",
    "   "
   ]
  },
  {
   "cell_type": "code",
   "execution_count": null,
   "metadata": {},
   "outputs": [
    {
     "name": "stdout",
     "output_type": "stream",
     "text": [
      "True\n",
      "True\n"
     ]
    }
   ],
   "source": [
    "x,y=5,6\n",
    "print(x>1 and y<10)\n",
    "print (not x>20)"
   ]
  },
  {
   "cell_type": "code",
   "execution_count": null,
   "metadata": {},
   "outputs": [
    {
     "name": "stdout",
     "output_type": "stream",
     "text": [
      "False\n"
     ]
    }
   ],
   "source": [
    "num=input(\"Enter a number\")\n",
    "\n",
    "print((int(num)<100 and int(num)>0) and (int(num)%2==1))"
   ]
  },
  {
   "cell_type": "code",
   "execution_count": null,
   "metadata": {},
   "outputs": [
    {
     "name": "stdout",
     "output_type": "stream",
     "text": [
      "True\n"
     ]
    }
   ],
   "source": [
    "x=5\n",
    "y=5\n",
    "print(x is y)"
   ]
  },
  {
   "cell_type": "code",
   "execution_count": null,
   "metadata": {},
   "outputs": [
    {
     "name": "stdout",
     "output_type": "stream",
     "text": [
      "True\n"
     ]
    }
   ],
   "source": [
    "nums=[10,20,30,40,50]\n",
    "print( 20 in nums)# check whether 20 is in the nums\n"
   ]
  },
  {
   "cell_type": "code",
   "execution_count": null,
   "metadata": {},
   "outputs": [
    {
     "name": "stdout",
     "output_type": "stream",
     "text": [
      "0\n"
     ]
    }
   ],
   "source": [
    "x=5\n",
    "y=10\n",
    "z=10 & 5\n",
    "print(z)"
   ]
  },
  {
   "cell_type": "code",
   "execution_count": null,
   "metadata": {},
   "outputs": [
    {
     "name": "stdout",
     "output_type": "stream",
     "text": [
      "odd\n"
     ]
    }
   ],
   "source": [
    "num=7\n",
    "if (num%2)==1:\n",
    "    print(\"odd\")\n",
    "\n",
    "else:\n",
    "    print(\"even\")\n"
   ]
  },
  {
   "cell_type": "code",
   "execution_count": null,
   "metadata": {},
   "outputs": [
    {
     "name": "stdout",
     "output_type": "stream",
     "text": [
      "10  is a positive number\n"
     ]
    }
   ],
   "source": [
    "a=10\n",
    "\n",
    "if a<0 :\n",
    "    print(a,\" is a negative number\")\n",
    "\n",
    "elif a>0:\n",
    "    print(a, \" is a positive number\")\n",
    "\n",
    "else:\n",
    "    print(a, \"is a Zero\")"
   ]
  },
  {
   "cell_type": "code",
   "execution_count": null,
   "metadata": {},
   "outputs": [
    {
     "name": "stdout",
     "output_type": "stream",
     "text": [
      "C\n"
     ]
    }
   ],
   "source": [
    "mark=input (\"Marks\")\n",
    "mark=int(mark)\n",
    "\n",
    "if 100>= mark >=85 :\n",
    "    print (\"A\")\n",
    "\n",
    "elif 85> mark>=75:\n",
    "    print (\"B\")\n",
    "elif 75> mark>=65:\n",
    "    print (\"C\")\n",
    "\n",
    "elif 65> mark >= 55:\n",
    "    print (\"D\")\n",
    "\n",
    "elif mark<55:\n",
    "    print (\"F\")\n",
    "else:\n",
    "    print(\"wrong input\")\n",
    "\n",
    "\n"
   ]
  },
  {
   "cell_type": "code",
   "execution_count": null,
   "metadata": {},
   "outputs": [
    {
     "name": "stdout",
     "output_type": "stream",
     "text": [
      "positive num greater than 1\n"
     ]
    }
   ],
   "source": [
    "x=input()\n",
    "x=int(x)\n",
    "\n",
    "match x:\n",
    "    case 0:\n",
    "        print(\"Zero\")\n",
    "    \n",
    "    case -1:\n",
    "        print(\"Negative one\")\n",
    "    \n",
    "    case 1:\n",
    "         print(\"Positive one\")\n",
    "    \n",
    "    case _ if x>1:\n",
    "        print(\"positive num greater than 1\")\n",
    "    \n",
    "    case _ if x<-1:\n",
    "        print(\"negative num less than -1\")\n",
    "    case _:\n",
    "        print(\"unmatch case\")"
   ]
  },
  {
   "cell_type": "code",
   "execution_count": null,
   "metadata": {},
   "outputs": [
    {
     "name": "stdout",
     "output_type": "stream",
     "text": [
      "List has two element\n"
     ]
    }
   ],
   "source": [
    "x=[1,2]\n",
    "\n",
    "match x:\n",
    "    case _ if []:\n",
    "        print(\"empty list\")\n",
    "    \n",
    "    case  [x]:\n",
    "        print(\"List has single element\")\n",
    "    \n",
    "    case[x,y]:\n",
    "          print(\"List has two element\")\n",
    "    \n",
    "    case _:\n",
    "          print(\"This is somthing else\")"
   ]
  },
  {
   "cell_type": "code",
   "execution_count": null,
   "metadata": {},
   "outputs": [],
   "source": []
  },
  {
   "cell_type": "code",
   "execution_count": null,
   "metadata": {},
   "outputs": [],
   "source": []
  },
  {
   "cell_type": "code",
   "execution_count": null,
   "metadata": {},
   "outputs": [
    {
     "name": "stdout",
     "output_type": "stream",
     "text": [
      "Something else\n"
     ]
    }
   ],
   "source": [
    "response_code=100\n",
    "\n",
    "match response_code:\n",
    "    case 200:\n",
    "        print(\"OK\")\n",
    "    \n",
    "    case 201:\n",
    "        print(\"Created\")\n",
    "    \n",
    "    case 404:\n",
    "        print(\"not found\")\n",
    "    \n",
    "    case _:\n",
    "        print(\"Something else\")\n",
    "\n",
    "    \n"
   ]
  },
  {
   "cell_type": "code",
   "execution_count": null,
   "metadata": {},
   "outputs": [
    {
     "name": "stdout",
     "output_type": "stream",
     "text": [
      "apple\n",
      "banana\n",
      "roseapple\n"
     ]
    }
   ],
   "source": [
    "fruits=[\"apple\",\"banana\",\"roseapple\"]\n",
    "\n",
    "for fruit in fruits:\n",
    "    print(fruit)"
   ]
  },
  {
   "cell_type": "code",
   "execution_count": null,
   "metadata": {},
   "outputs": [
    {
     "name": "stdout",
     "output_type": "stream",
     "text": [
      "[1, 4, 9, 16]\n"
     ]
    }
   ],
   "source": [
    "my_list=[1,2,3,4]\n",
    "my_list_new=[]\n",
    "\n",
    "for x in my_list:\n",
    "  \n",
    "  my_list_new.append(x * x)\n",
    "\n",
    " \n",
    "\n",
    "print (my_list_new)\n"
   ]
  },
  {
   "cell_type": "code",
   "execution_count": null,
   "metadata": {},
   "outputs": [
    {
     "data": {
      "text/plain": [
       "[1, 4, 9, 16]"
      ]
     },
     "execution_count": 24,
     "metadata": {},
     "output_type": "execute_result"
    }
   ],
   "source": [
    "my_list=[1,2,3,4]\n",
    "my_list_new=[]\n",
    "\n",
    "[x**2 for x in my_list]"
   ]
  },
  {
   "cell_type": "code",
   "execution_count": null,
   "metadata": {},
   "outputs": [
    {
     "data": {
      "text/plain": [
       "[1, 4, 9, 16, 25, 36, 49, 64, 81, 100]"
      ]
     },
     "execution_count": 28,
     "metadata": {},
     "output_type": "execute_result"
    }
   ],
   "source": [
    "[x ** 2 for x in range(1, 11)]"
   ]
  },
  {
   "cell_type": "code",
   "execution_count": null,
   "metadata": {},
   "outputs": [
    {
     "name": "stdout",
     "output_type": "stream",
     "text": [
      "2\n",
      "4\n",
      "6\n",
      "8\n",
      "10\n"
     ]
    }
   ],
   "source": [
    "x=input()\n",
    "x=int(x)\n",
    "y=2\n",
    "while y<x:\n",
    "    \n",
    "    print(y)\n",
    "\n",
    "    if y==10:\n",
    "        break\n",
    "    \n",
    "    y =y +2\n",
    "\n"
   ]
  },
  {
   "cell_type": "code",
   "execution_count": 44,
   "metadata": {},
   "outputs": [
    {
     "name": "stdout",
     "output_type": "stream",
     "text": [
      "7\n",
      "15\n",
      "24\n",
      "32\n",
      "32\n"
     ]
    }
   ],
   "source": [
    "count=0\n",
    "while True:\n",
    "    x = input(x)\n",
    "    x = int(x)\n",
    "    count=count + x\n",
    "    print(count)\n",
    "\n",
    "    if x == 0 :\n",
    "        break\n"
   ]
  },
  {
   "cell_type": "code",
   "execution_count": 45,
   "metadata": {},
   "outputs": [
    {
     "name": "stdout",
     "output_type": "stream",
     "text": [
      "3\n",
      "15\n",
      "9\n",
      "7\n"
     ]
    }
   ],
   "source": [
    "my_list=[3,8,15,10,9,7,14]\n",
    "\n",
    "for x in my_list:\n",
    "    if x % 2 ==0:\n",
    "        continue\n",
    "    print(x)"
   ]
  },
  {
   "cell_type": "code",
   "execution_count": 46,
   "metadata": {},
   "outputs": [
    {
     "name": "stdout",
     "output_type": "stream",
     "text": [
      "10 12 8\n"
     ]
    }
   ],
   "source": [
    "#unpacking\n",
    "\n",
    "my_list=[10,12,8]\n",
    "x,y,z=my_list\n",
    "print(x,y,z)"
   ]
  },
  {
   "cell_type": "code",
   "execution_count": 49,
   "metadata": {},
   "outputs": [
    {
     "name": "stdout",
     "output_type": "stream",
     "text": [
      "sawani 22\n"
     ]
    }
   ],
   "source": [
    "my_dic={\n",
    "    \"name\":\"sawani\",\n",
    "    \"age\":22\n",
    "}\n",
    "x,y= my_dic.values()\n",
    "print(x,y)"
   ]
  },
  {
   "cell_type": "code",
   "execution_count": 50,
   "metadata": {},
   "outputs": [
    {
     "name": "stdout",
     "output_type": "stream",
     "text": [
      "name sawani\n",
      "age 22\n"
     ]
    }
   ],
   "source": [
    "my_dic={\n",
    "    \"name\":\"sawani\",\n",
    "    \"age\":22\n",
    "}\n",
    "for key, value in my_dic.items():\n",
    "    print(key, value)"
   ]
  },
  {
   "cell_type": "code",
   "execution_count": 54,
   "metadata": {},
   "outputs": [
    {
     "name": "stdout",
     "output_type": "stream",
     "text": [
      "{'age': 22, 'l': 22}\n"
     ]
    }
   ],
   "source": [
    "my_dic_1={\n",
    "    \"age\":22\n",
    "}\n",
    "my_dic_2={\n",
    "    \"l\":22\n",
    "}\n",
    "my_dic_3= my_dic_1 | my_dic_2\n",
    "print(my_dic_3)"
   ]
  },
  {
   "cell_type": "code",
   "execution_count": 57,
   "metadata": {},
   "outputs": [
    {
     "name": "stdout",
     "output_type": "stream",
     "text": [
      "22\n",
      "None\n"
     ]
    }
   ],
   "source": [
    "my_dic_1={\n",
    "    \"age\":22\n",
    "}\n",
    "print(my_dic_1.get(key,\"age\"))\n",
    "print(my_dic_1.get('b'))"
   ]
  },
  {
   "cell_type": "code",
   "execution_count": 2,
   "metadata": {},
   "outputs": [
    {
     "name": "stdout",
     "output_type": "stream",
     "text": [
      "5\n"
     ]
    }
   ],
   "source": [
    "\n",
    "def  addtion(a,b):\n",
    " return a+b\n",
    "\n",
    "print(addtion(1,4))\n"
   ]
  },
  {
   "cell_type": "code",
   "execution_count": 3,
   "metadata": {},
   "outputs": [
    {
     "name": "stdout",
     "output_type": "stream",
     "text": [
      "154.0\n"
     ]
    }
   ],
   "source": [
    "def calArea(r):\n",
    "    return (22 * r * r)/7\n",
    "\n",
    "print(calArea(7))\n"
   ]
  },
  {
   "cell_type": "code",
   "execution_count": 5,
   "metadata": {},
   "outputs": [
    {
     "name": "stdout",
     "output_type": "stream",
     "text": [
      "7.5\n"
     ]
    }
   ],
   "source": [
    "my_list=[4,8,12,5,9,7]\n",
    "\n",
    "def getAvg(myList):\n",
    "    \n",
    "    return sum(myList)/len(myList)\n",
    "\n",
    "print(getAvg(my_list))"
   ]
  },
  {
   "cell_type": "code",
   "execution_count": 10,
   "metadata": {},
   "outputs": [
    {
     "name": "stdout",
     "output_type": "stream",
     "text": [
      "[4, 12, 9]\n"
     ]
    }
   ],
   "source": [
    "my_list=[4,8,12,5,9,7]\n",
    "\n",
    "print(my_list[::2])"
   ]
  },
  {
   "cell_type": "code",
   "execution_count": null,
   "metadata": {},
   "outputs": [],
   "source": []
  }
 ],
 "metadata": {
  "kernelspec": {
   "display_name": "Python 3",
   "language": "python",
   "name": "python3"
  },
  "language_info": {
   "codemirror_mode": {
    "name": "ipython",
    "version": 3
   },
   "file_extension": ".py",
   "mimetype": "text/x-python",
   "name": "python",
   "nbconvert_exporter": "python",
   "pygments_lexer": "ipython3",
   "version": "3.13.0"
  }
 },
 "nbformat": 4,
 "nbformat_minor": 2
}
