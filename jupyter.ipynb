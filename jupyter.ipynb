{
 "cells": [
  {
   "cell_type": "code",
   "execution_count": 37,
   "metadata": {},
   "outputs": [
    {
     "name": "stdout",
     "output_type": "stream",
     "text": [
      "hello\n"
     ]
    }
   ],
   "source": [
    "print(\"hello\")"
   ]
  },
  {
   "cell_type": "code",
   "execution_count": null,
   "metadata": {},
   "outputs": [
    {
     "name": "stdout",
     "output_type": "stream",
     "text": [
      "200\n",
      "The type of variable having value 200 is <class 'int'>\n"
     ]
    }
   ],
   "source": [
    "# variable types chek  #\n",
    "a = 200\n",
    "print(a)\n",
    "print(\"The type of variable having value\",a,\"is\",type(a))"
   ]
  },
  {
   "cell_type": "code",
   "execution_count": null,
   "metadata": {},
   "outputs": [
    {
     "name": "stdout",
     "output_type": "stream",
     "text": [
      "(100+5j)\n",
      "The type of variable having value (100+5j) is <class 'complex'>\n"
     ]
    }
   ],
   "source": [
    "c= 100+5j\n",
    "print(c)\n",
    "print(\"The type of variable having value\",c,\"is\",type(c))"
   ]
  },
  {
   "cell_type": "code",
   "execution_count": null,
   "metadata": {},
   "outputs": [],
   "source": [
    "num_1 = 2.5e4\n",
    "print(num_1)\n",
    "print(\"The type of variable having value\",num_1,\"is\",type(num_1))\n"
   ]
  },
  {
   "cell_type": "code",
   "execution_count": null,
   "metadata": {},
   "outputs": [],
   "source": [
    "# casting#\n",
    "num_1 = 5\n",
    "num_2 = 12.4\n",
    "a = float(num_2-num_1)  #casting \n",
    "print(a,type(a))"
   ]
  },
  {
   "cell_type": "code",
   "execution_count": null,
   "metadata": {},
   "outputs": [
    {
     "name": "stdout",
     "output_type": "stream",
     "text": [
      "12 <class 'int'>\n"
     ]
    }
   ],
   "source": [
    "num_2 = 12.4\n",
    "b = int(num_2)\n",
    "print(b,type(b))"
   ]
  },
  {
   "cell_type": "code",
   "execution_count": null,
   "metadata": {},
   "outputs": [
    {
     "name": "stdout",
     "output_type": "stream",
     "text": [
      "<class 'list'>\n",
      "[1, 10, 15, 18]\n",
      "1\n"
     ]
    }
   ],
   "source": [
    "#python collectio four major data type \n",
    "#List,Tuple,Set,Dictionary\n",
    "#Python List \n",
    "my_list = [1,10,15,18]\n",
    "print(type(my_list))\n",
    "print(my_list)\n",
    "print(my_list[0])"
   ]
  },
  {
   "cell_type": "code",
   "execution_count": null,
   "metadata": {},
   "outputs": [
    {
     "name": "stdout",
     "output_type": "stream",
     "text": [
      "[1, 10, 45, 18]\n"
     ]
    }
   ],
   "source": [
    "#changing 2nd index value \n",
    "my_list = [1,10,15,18]\n",
    "my_list[2]=45\n",
    "print(my_list)"
   ]
  },
  {
   "cell_type": "code",
   "execution_count": null,
   "metadata": {},
   "outputs": [
    {
     "name": "stdout",
     "output_type": "stream",
     "text": [
      "[1, 10, 10, 'eat', 8, True] <class 'list'> 6\n"
     ]
    }
   ],
   "source": [
    "my_list =[1,10,10,\"eat\",8,True]\n",
    "print(my_list,type(my_list),len(my_list))"
   ]
  },
  {
   "cell_type": "code",
   "execution_count": null,
   "metadata": {},
   "outputs": [
    {
     "name": "stdout",
     "output_type": "stream",
     "text": [
      "True\n"
     ]
    }
   ],
   "source": [
    "#\n",
    "my_list =[1,10,10,\"eat\",8,True]\n",
    "print(my_list[-1])"
   ]
  },
  {
   "cell_type": "code",
   "execution_count": null,
   "metadata": {},
   "outputs": [
    {
     "name": "stdout",
     "output_type": "stream",
     "text": [
      "[10, 10, 'eat']\n"
     ]
    }
   ],
   "source": [
    "#sub indexing\n",
    "my_list =[1,10,10,\"eat\",8,True]\n",
    "print(my_list[1:4])#methan apita subset krana awashya index ekata ekak wadiyen deveni value eka dan naona.nattan apita awashya eka enne na.ekata ekak aduwen enne"
   ]
  },
  {
   "cell_type": "code",
   "execution_count": null,
   "metadata": {},
   "outputs": [
    {
     "name": "stdout",
     "output_type": "stream",
     "text": [
      "[1, 10, 10, 'eat']\n"
     ]
    }
   ],
   "source": [
    "my_list =[1,10,10,\"eat\",8,True]\n",
    "print(my_list[:3]) #api mul index eka 0 nisa eka danne na me widiyata thamaiapi o index ekai anith index ewai subset kraddi ganne"
   ]
  },
  {
   "cell_type": "code",
   "execution_count": null,
   "metadata": {},
   "outputs": [
    {
     "name": "stdout",
     "output_type": "stream",
     "text": [
      "['eat', 8, True]\n"
     ]
    }
   ],
   "source": [
    "my_list =[1,10,10,\"eat\",8,True]\n",
    "print(my_list[3:])#methana wenne apita sub set kran ona eka index ekaka idan lsit eke last index eka wenakm nm apita mehema subset kranna puluwan"
   ]
  },
  {
   "cell_type": "code",
   "execution_count": null,
   "metadata": {},
   "outputs": [
    {
     "name": "stdout",
     "output_type": "stream",
     "text": [
      "[1, 10, 'dog', 19.0, 8, True]\n"
     ]
    }
   ],
   "source": [
    "#Quection(2 & 3 indexes includes dog & 19.0)\n",
    "my_list =[1,10,10,\"eat\",8,True]\n",
    "my_list[2:4] = \"dog\",19.0\n",
    "print(my_list)"
   ]
  },
  {
   "cell_type": "code",
   "execution_count": null,
   "metadata": {},
   "outputs": [
    {
     "name": "stdout",
     "output_type": "stream",
     "text": [
      "[1, 10, 10, 'rabbit', 'eat', 8, True] 7\n"
     ]
    }
   ],
   "source": [
    "#insert\n",
    "my_list =[1,10,10,\"eat\",8,True]\n",
    "my_list.insert(3,\"rabbit\")\n",
    "print(my_list,len(my_list))"
   ]
  },
  {
   "cell_type": "code",
   "execution_count": null,
   "metadata": {},
   "outputs": [
    {
     "name": "stdout",
     "output_type": "stream",
     "text": [
      "[1, 10, 10, 'eat', 8, True, 'car', 'car'] 8\n"
     ]
    }
   ],
   "source": [
    "#append(incluede new index in array end)\n",
    "my_list =[1,10,10,\"eat\",8,True]\n",
    "my_list.append(\"car\")\n",
    "print(my_list,len(my_list))"
   ]
  },
  {
   "cell_type": "code",
   "execution_count": null,
   "metadata": {},
   "outputs": [
    {
     "name": "stdout",
     "output_type": "stream",
     "text": [
      "[1, 10, 10, 'eat', 8, True, 24, '10', 10, 'Beat', 'BUs', False]\n"
     ]
    }
   ],
   "source": [
    "#extend lits\n",
    "my_list =[1,10,10,\"eat\",8,True]\n",
    "new_list =[24,\"10\",10,\"Beat\",\"BUs\",False]\n",
    "my_list.extend(new_list)\n",
    "print(my_list)"
   ]
  },
  {
   "cell_type": "code",
   "execution_count": null,
   "metadata": {},
   "outputs": [
    {
     "name": "stdout",
     "output_type": "stream",
     "text": [
      "[1, 10, 10, 'eat', True]\n"
     ]
    }
   ],
   "source": [
    "#remove index\n",
    "my_list =[1,10,10,\"eat\",8,True]\n",
    "my_list.pop(4)\n",
    "print(my_list)"
   ]
  },
  {
   "cell_type": "code",
   "execution_count": null,
   "metadata": {},
   "outputs": [
    {
     "name": "stdout",
     "output_type": "stream",
     "text": [
      "[1, 10, 10, 8, True]\n"
     ]
    }
   ],
   "source": [
    "#remove value\n",
    "my_list =[1,10,10,\"eat\",8,True]\n",
    "my_list.remove(\"eat\")\n",
    "print(my_list)"
   ]
  },
  {
   "cell_type": "code",
   "execution_count": null,
   "metadata": {},
   "outputs": [],
   "source": [
    "#delete list \n",
    "my_list =[1,10,10,\"eat\",8,True]\n",
    "del my_list\n"
   ]
  },
  {
   "cell_type": "code",
   "execution_count": null,
   "metadata": {},
   "outputs": [
    {
     "name": "stdout",
     "output_type": "stream",
     "text": [
      "0 []\n"
     ]
    }
   ],
   "source": [
    "#Clear(all indexes are removed)\n",
    "my_list =[1,10,10,\"eat\",8,True]\n",
    "my_list.clear()\n",
    "print(len(my_list),my_list)"
   ]
  },
  {
   "cell_type": "code",
   "execution_count": null,
   "metadata": {},
   "outputs": [
    {
     "name": "stdout",
     "output_type": "stream",
     "text": [
      "['Beans', 'apple', 'banana', 'rice']\n"
     ]
    }
   ],
   "source": [
    "#sort array(by default sort)\n",
    "my_list = [\"banana\",\"apple\",\"beans\",\"rice\"]\n",
    "my_list.sort()\n",
    "print(my_list)"
   ]
  },
  {
   "cell_type": "code",
   "execution_count": null,
   "metadata": {},
   "outputs": [
    {
     "name": "stdout",
     "output_type": "stream",
     "text": [
      "['Beans', 'apple', 'banana', 'rice']\n"
     ]
    }
   ],
   "source": [
    "#Case sensitive sort\n",
    "#capital letters include value.this value is priority. capital lettr include word in any placecs.this word priority.\n",
    "my_list = [\"banana\",\"apple\",\"Beans\",\"rice\"]\n",
    "my_list.sort()\n",
    "print(my_list)"
   ]
  },
  {
   "cell_type": "code",
   "execution_count": null,
   "metadata": {},
   "outputs": [
    {
     "name": "stdout",
     "output_type": "stream",
     "text": [
      "['apple', 'banana', 'Beans', 'dog', 'rice']\n"
     ]
    }
   ],
   "source": [
    "#Case insensitive sort(accendin)\n",
    "my_list = [\"dog\",\"banana\",\"apple\",\"Beans\",\"rice\"] \n",
    "my_list.sort(key=str.lower)\n",
    "print(my_list)"
   ]
  },
  {
   "cell_type": "code",
   "execution_count": null,
   "metadata": {},
   "outputs": [
    {
     "name": "stdout",
     "output_type": "stream",
     "text": [
      "['rice', 'dog', 'banana', 'apple', 'Beans']\n"
     ]
    }
   ],
   "source": [
    "#Case insensitive sort(deccending)\n",
    "my_list = [\"dog\",\"banana\",\"apple\",\"Beans\",\"rice\"] \n",
    "my_list.sort(reverse=True)\n",
    "print(my_list)"
   ]
  },
  {
   "cell_type": "code",
   "execution_count": null,
   "metadata": {},
   "outputs": [
    {
     "name": "stdout",
     "output_type": "stream",
     "text": [
      "['rice', 'Beans', 'apple', 'banana', 'dog']\n"
     ]
    }
   ],
   "source": [
    "#change array order(not accending or diccending)\n",
    "my_list = [\"dog\",\"banana\",\"apple\",\"Beans\",\"rice\"] \n",
    "my_list.reverse()\n",
    "print(my_list)"
   ]
  },
  {
   "cell_type": "code",
   "execution_count": null,
   "metadata": {},
   "outputs": [
    {
     "ename": "SyntaxError",
     "evalue": "expected ':' (2015437312.py, line 34)",
     "output_type": "error",
     "traceback": [
      "\u001b[1;36m  Cell \u001b[1;32mIn[11], line 34\u001b[1;36m\u001b[0m\n\u001b[1;33m    if()\u001b[0m\n\u001b[1;37m        ^\u001b[0m\n\u001b[1;31mSyntaxError\u001b[0m\u001b[1;31m:\u001b[0m expected ':'\n"
     ]
    }
   ],
   "source": [
    "my_list1 = [-10,-18,12,5,7,12,-3]\n",
    "my_list2 = [8,4,-3,9,2,11]\n",
    "my_list1.extend(my_list2)\n",
    "print(my_list1)\n",
    "\n",
    "my_list1.sort()\n",
    "print(\"sort list\",my_list1)\n",
    "list_length = len(my_list1)\n",
    "if(list_length%2 == 0):\n",
    "    median = my_list1[list_length//2-1]\n",
    "   \n",
    "\n",
    "else:\n",
    "    median= my_list1[list_length//2]\n",
    "    print(\"median\",median)\n",
    "    list_Q1 = []\n",
    "    \n",
    "    median_index = my_list1.index(median)\n",
    "    list_Q1 = my_list1[0:median_index+1]\n",
    "    print(list_Q1)\n",
    "    list_Q1_length =len(list_Q1)\n",
    "    if( list_Q1_length%2 == 0):\n",
    "        q1 = my_list1[list_Q1_length//2-1]\n",
    "        print(\"Q1\",q1)\n",
    "       \n",
    "    else:\n",
    "        list_Q1 = []\n",
    "        median_index = my_list1.index(median)\n",
    "        list_Q1 = my_list1[median_index:]\n",
    "        print(list_Q1)\n",
    "        list_Q1_length =len(list_Q1)\n",
    "        q1 = my_list1[list_Q1_length//2]\n",
    "        print(\"Q1\",q1)\n",
    "    if()"
   ]
  },
  {
   "cell_type": "code",
   "execution_count": null,
   "metadata": {},
   "outputs": [
    {
     "name": "stdout",
     "output_type": "stream",
     "text": [
      "<class 'str'>\n",
      "<class 'tuple'>\n",
      "['cat']\n",
      "<class 'list'>\n",
      "<class 'tuple'>\n",
      "('cat',)\n"
     ]
    }
   ],
   "source": [
    "my_tuple_1=(\"Dog\")\n",
    "print(type(my_tuple_1))# give the type as string (because t has only one element and does not add , after that)\n",
    "my_tuple_2=(\"cat\",)\n",
    "print(type(my_tuple_2))# give type as tuple because in this already add , after the elemnt in my_tuple_2\n",
    "\n",
    "\n",
    "\n",
    "my_tuple_2=list(my_tuple_2)# convert tuple to list\n",
    "print(my_tuple_2)\n",
    "print(type(my_tuple_2))\n",
    "my_tuple_2=tuple(my_tuple_2)# use tuple constructor and convert list to tuple again\n",
    "print(type(my_tuple_2))\n",
    "print(my_tuple_2)"
   ]
  },
  {
   "cell_type": "code",
   "execution_count": null,
   "metadata": {},
   "outputs": [],
   "source": [
    "my_tuple_1=(10,8,20,5)\n",
    "my_tuple_2=(5,9,-1)\n",
    "my_tuple_1=list(my_tuple_1)\n",
    "my_tuple_2=list(my_tuple_2)\n",
    "my_tuple_1.remove(20)\n",
    "my_tuple_1.extend(my_tuple_2)\n",
    "my_tuple_1.sort()\n",
    "my_tuple_1=tuple(my_tuple_1)\n",
    "\n",
    "\n",
    "\n",
    "print(my_tuple_1)"
   ]
  },
  {
   "cell_type": "code",
   "execution_count": null,
   "metadata": {},
   "outputs": [],
   "source": [
    "my_tuple=((1,10,8),(\"dog\",\"cat\",\"rat\"),(True,False))\n",
    "print(my_tuple[0][1])\n",
    "print(my_tuple[1][1])\n",
    "print(my_tuple[2][0])"
   ]
  },
  {
   "cell_type": "code",
   "execution_count": null,
   "metadata": {},
   "outputs": [
    {
     "name": "stdout",
     "output_type": "stream",
     "text": [
      "{'name': 'suger', 'price': 120}\n",
      "<class 'dict'>\n",
      "suger\n"
     ]
    }
   ],
   "source": [
    "dic_1={\n",
    "    \"name\":\"suger\",\n",
    "    \"price\":250.00,\n",
    "    \"price\":120# dictionary does not support for duplicate values\n",
    "}\n",
    "print(dic_1)\n",
    "print(type(dic_1))\n",
    "print(dic_1[\"name\"])#access the value of name(in here, use the key as index)"
   ]
  },
  {
   "cell_type": "code",
   "execution_count": null,
   "metadata": {},
   "outputs": [
    {
     "name": "stdout",
     "output_type": "stream",
     "text": [
      "{'name': 'suger', 'price': 120}\n",
      "{'name': 'suger', 'price': 120, 'color': 'red'}\n"
     ]
    }
   ],
   "source": [
    "dic_1={\n",
    "    \"name\":\"suger\",\n",
    "    \"price\":250.00,\n",
    "    \"price\":120# dictionary does not support for duplicate values\n",
    "}\n",
    "print(dic_1)\n",
    "\n",
    "dic_1[\"color\"]=\"red\" # add new item to dic that already declred\n",
    "print(dic_1)"
   ]
  },
  {
   "cell_type": "code",
   "execution_count": null,
   "metadata": {},
   "outputs": [
    {
     "name": "stdout",
     "output_type": "stream",
     "text": [
      "{'name': 'suger', 'price': 120}\n",
      "{'name': 'suger', 'price': 120, 'color': 'red'}\n",
      "{'name': 'suger', 'price': 120}\n",
      "{'name': 'suger'}\n"
     ]
    }
   ],
   "source": [
    "dic_1={\n",
    "    \"name\":\"suger\",\n",
    "    \"price\":250.00,\n",
    "    \"price\":120# dictionary does not support for duplicate values\n",
    "}\n",
    "print(dic_1)\n",
    "\n",
    "dic_1[\"color\"]=\"red\" # add new item to dic that already declred\n",
    "print(dic_1)\n",
    "\n",
    "dic_1.pop(\"color\")# remove an item from dic\n",
    "print(dic_1)\n",
    "dic_1.popitem()\n",
    "print(dic_1)# remove the last item of dic"
   ]
  },
  {
   "cell_type": "code",
   "execution_count": null,
   "metadata": {},
   "outputs": [
    {
     "name": "stdout",
     "output_type": "stream",
     "text": [
      "{'name': 'suger', 'price': 120}\n",
      "{'name': 'suger', 'price': 120, 'color': 'red'}\n",
      "{'name': 'suger', 'price': 120}\n",
      "{}\n"
     ]
    },
    {
     "ename": "NameError",
     "evalue": "name 'dic_1' is not defined",
     "output_type": "error",
     "traceback": [
      "\u001b[1;31m---------------------------------------------------------------------------\u001b[0m",
      "\u001b[1;31mNameError\u001b[0m                                 Traceback (most recent call last)",
      "Cell \u001b[1;32mIn[19], line 18\u001b[0m\n\u001b[0;32m     15\u001b[0m \u001b[38;5;28mprint\u001b[39m(dic_1)\n\u001b[0;32m     17\u001b[0m \u001b[38;5;28;01mdel\u001b[39;00m dic_1\n\u001b[1;32m---> 18\u001b[0m \u001b[38;5;28mprint\u001b[39m(\u001b[43mdic_1\u001b[49m)\n",
      "\u001b[1;31mNameError\u001b[0m: name 'dic_1' is not defined"
     ]
    }
   ],
   "source": [
    "dic_1={\n",
    "    \"name\":\"suger\",\n",
    "    \"price\":250.00,\n",
    "    \"price\":120# dictionary does not support for duplicate values\n",
    "}\n",
    "print(dic_1)\n",
    "\n",
    "dic_1[\"color\"]=\"red\" # add new item to dic that already declred\n",
    "print(dic_1)\n",
    "\n",
    "del dic_1[\"color\"]# distory specific value of dic\n",
    "print(dic_1)\n",
    "\n",
    "dic_1.clear()# remove all values of dic\n",
    "print(dic_1)\n",
    "\n",
    "del dic_1# ditroy whole dic\n",
    "print(dic_1)"
   ]
  },
  {
   "cell_type": "code",
   "execution_count": null,
   "metadata": {},
   "outputs": [
    {
     "name": "stdout",
     "output_type": "stream",
     "text": [
      "{'name': 'suger', 'price': 120}\n",
      "{'name': 'suger', 'price': 120, 'color': 'red'}\n",
      "{'name': 'suger', 'price': 120}\n"
     ]
    }
   ],
   "source": [
    "dic_1={\n",
    "    \"name\":\"suger\",\n",
    "    \"price\":250.00,\n",
    "    \"price\":120# dictionary does not support for duplicate values\n",
    "}\n",
    "dic_2=dic_1.copy()# copy the dic 1 items to dic2(also you can use dict constructor)\n",
    "print(dic_2)\n",
    "dic_1[\"color\"]=\"red\"\n",
    "print(dic_1)\n",
    "print(dic_2)\n"
   ]
  },
  {
   "cell_type": "code",
   "execution_count": null,
   "metadata": {},
   "outputs": [
    {
     "name": "stdout",
     "output_type": "stream",
     "text": [
      "dict_keys(['name', 'price', 'color'])\n"
     ]
    }
   ],
   "source": [
    "dic_1={\n",
    "    \"name\":\"suger\",\n",
    "    \"price\":250.00,\n",
    "    \"color\":\"red\"\n",
    "}\n",
    "print(dic_1.keys())# to get all keys at once"
   ]
  },
  {
   "cell_type": "code",
   "execution_count": null,
   "metadata": {},
   "outputs": [
    {
     "name": "stdout",
     "output_type": "stream",
     "text": [
      "3\n",
      "3.75\n",
      "0\n"
     ]
    }
   ],
   "source": [
    "a= 15//4# neglect the floting part\n",
    "b=15/4# give real value\n",
    "c=12%3# give remaining\n",
    "print(a)\n",
    "print(b)\n",
    "print(c)"
   ]
  },
  {
   "cell_type": "code",
   "execution_count": null,
   "metadata": {},
   "outputs": [
    {
     "name": "stdout",
     "output_type": "stream",
     "text": [
      "s\n"
     ]
    }
   ],
   "source": [
    "a=input(\"Enter a Value\")\n",
    "print(a)\n"
   ]
  },
  {
   "cell_type": "code",
   "execution_count": null,
   "metadata": {},
   "outputs": [
    {
     "name": "stdout",
     "output_type": "stream",
     "text": [
      "False\n"
     ]
    }
   ],
   "source": [
    "num=input(\"Enter a number\")\n",
    "\n",
    "x=int(num)%7\n",
    "print(num==0)\n",
    "\n",
    "   "
   ]
  },
  {
   "cell_type": "code",
   "execution_count": null,
   "metadata": {},
   "outputs": [
    {
     "name": "stdout",
     "output_type": "stream",
     "text": [
      "True\n",
      "True\n"
     ]
    }
   ],
   "source": [
    "x,y=5,6\n",
    "print(x>1 and y<10)\n",
    "print (not x>20)"
   ]
  },
  {
   "cell_type": "code",
   "execution_count": null,
   "metadata": {},
   "outputs": [
    {
     "name": "stdout",
     "output_type": "stream",
     "text": [
      "False\n"
     ]
    }
   ],
   "source": [
    "num=input(\"Enter a number\")\n",
    "\n",
    "print((int(num)<100 and int(num)>0) and (int(num)%2==1))"
   ]
  },
  {
   "cell_type": "code",
   "execution_count": null,
   "metadata": {},
   "outputs": [
    {
     "name": "stdout",
     "output_type": "stream",
     "text": [
      "True\n"
     ]
    }
   ],
   "source": [
    "x=5\n",
    "y=5\n",
    "print(x is y)"
   ]
  },
  {
   "cell_type": "code",
   "execution_count": null,
   "metadata": {},
   "outputs": [
    {
     "name": "stdout",
     "output_type": "stream",
     "text": [
      "True\n"
     ]
    }
   ],
   "source": [
    "nums=[10,20,30,40,50]\n",
    "print( 20 in nums)# check whether 20 is in the nums\n"
   ]
  },
  {
   "cell_type": "code",
   "execution_count": null,
   "metadata": {},
   "outputs": [
    {
     "name": "stdout",
     "output_type": "stream",
     "text": [
      "0\n"
     ]
    }
   ],
   "source": [
    "x=5\n",
    "y=10\n",
    "z=10 & 5\n",
    "print(z)"
   ]
  },
  {
   "cell_type": "code",
   "execution_count": null,
   "metadata": {},
   "outputs": [
    {
     "name": "stdout",
     "output_type": "stream",
     "text": [
      "odd\n"
     ]
    }
   ],
   "source": [
    "num=7\n",
    "if (num%2)==1:\n",
    "    print(\"odd\")\n",
    "\n",
    "else:\n",
    "    print(\"even\")\n"
   ]
  },
  {
   "cell_type": "code",
   "execution_count": null,
   "metadata": {},
   "outputs": [
    {
     "name": "stdout",
     "output_type": "stream",
     "text": [
      "10  is a positive number\n"
     ]
    }
   ],
   "source": [
    "a=10\n",
    "\n",
    "if a<0 :\n",
    "    print(a,\" is a negative number\")\n",
    "\n",
    "elif a>0:\n",
    "    print(a, \" is a positive number\")\n",
    "\n",
    "else:\n",
    "    print(a, \"is a Zero\")"
   ]
  },
  {
   "cell_type": "code",
   "execution_count": null,
   "metadata": {},
   "outputs": [
    {
     "name": "stdout",
     "output_type": "stream",
     "text": [
      "C\n"
     ]
    }
   ],
   "source": [
    "mark=input (\"Marks\")\n",
    "mark=int(mark)\n",
    "\n",
    "if 100>= mark >=85 :\n",
    "    print (\"A\")\n",
    "\n",
    "elif 85> mark>=75:\n",
    "    print (\"B\")\n",
    "elif 75> mark>=65:\n",
    "    print (\"C\")\n",
    "\n",
    "elif 65> mark >= 55:\n",
    "    print (\"D\")\n",
    "\n",
    "elif mark<55:\n",
    "    print (\"F\")\n",
    "else:\n",
    "    print(\"wrong input\")\n",
    "\n",
    "\n"
   ]
  },
  {
   "cell_type": "code",
   "execution_count": null,
   "metadata": {},
   "outputs": [
    {
     "name": "stdout",
     "output_type": "stream",
     "text": [
      "positive num greater than 1\n"
     ]
    }
   ],
   "source": [
    "x=input()\n",
    "x=int(x)\n",
    "\n",
    "match x:\n",
    "    case 0:\n",
    "        print(\"Zero\")\n",
    "    \n",
    "    case -1:\n",
    "        print(\"Negative one\")\n",
    "    \n",
    "    case 1:\n",
    "         print(\"Positive one\")\n",
    "    \n",
    "    case _ if x>1:\n",
    "        print(\"positive num greater than 1\")\n",
    "    \n",
    "    case _ if x<-1:\n",
    "        print(\"negative num less than -1\")\n",
    "    case _:\n",
    "        print(\"unmatch case\")"
   ]
  },
  {
   "cell_type": "code",
   "execution_count": null,
   "metadata": {},
   "outputs": [
    {
     "name": "stdout",
     "output_type": "stream",
     "text": [
      "List has two element\n"
     ]
    }
   ],
   "source": [
    "x=[1,2]\n",
    "\n",
    "match x:\n",
    "    case _ if []:\n",
    "        print(\"empty list\")\n",
    "    \n",
    "    case  [x]:\n",
    "        print(\"List has single element\")\n",
    "    \n",
    "    case[x,y]:\n",
    "          print(\"List has two element\")\n",
    "    \n",
    "    case _:\n",
    "          print(\"This is somthing else\")"
   ]
  },
  {
   "cell_type": "code",
   "execution_count": null,
   "metadata": {},
   "outputs": [],
   "source": []
  },
  {
   "cell_type": "code",
   "execution_count": null,
   "metadata": {},
   "outputs": [],
   "source": []
  },
  {
   "cell_type": "code",
   "execution_count": null,
   "metadata": {},
   "outputs": [
    {
     "name": "stdout",
     "output_type": "stream",
     "text": [
      "Something else\n"
     ]
    }
   ],
   "source": [
    "response_code=100\n",
    "\n",
    "match response_code:\n",
    "    case 200:\n",
    "        print(\"OK\")\n",
    "    \n",
    "    case 201:\n",
    "        print(\"Created\")\n",
    "    \n",
    "    case 404:\n",
    "        print(\"not found\")\n",
    "    \n",
    "    case _:\n",
    "        print(\"Something else\")\n",
    "\n",
    "    \n"
   ]
  },
  {
   "cell_type": "code",
   "execution_count": null,
   "metadata": {},
   "outputs": [
    {
     "name": "stdout",
     "output_type": "stream",
     "text": [
      "apple\n",
      "banana\n",
      "roseapple\n"
     ]
    }
   ],
   "source": [
    "fruits=[\"apple\",\"banana\",\"roseapple\"]\n",
    "\n",
    "for fruit in fruits:\n",
    "    print(fruit)"
   ]
  },
  {
   "cell_type": "code",
   "execution_count": null,
   "metadata": {},
   "outputs": [
    {
     "name": "stdout",
     "output_type": "stream",
     "text": [
      "[1, 4, 9, 16]\n"
     ]
    }
   ],
   "source": [
    "my_list=[1,2,3,4]\n",
    "my_list_new=[]\n",
    "\n",
    "for x in my_list:\n",
    "  \n",
    "  my_list_new.append(x * x)\n",
    "\n",
    " \n",
    "\n",
    "print (my_list_new)\n"
   ]
  },
  {
   "cell_type": "code",
   "execution_count": null,
   "metadata": {},
   "outputs": [
    {
     "data": {
      "text/plain": [
       "[1, 4, 9, 16]"
      ]
     },
     "execution_count": 24,
     "metadata": {},
     "output_type": "execute_result"
    }
   ],
   "source": [
    "my_list=[1,2,3,4]\n",
    "my_list_new=[]\n",
    "\n",
    "[x**2 for x in my_list]"
   ]
  },
  {
   "cell_type": "code",
   "execution_count": null,
   "metadata": {},
   "outputs": [
    {
     "data": {
      "text/plain": [
       "[1, 4, 9, 16, 25, 36, 49, 64, 81, 100]"
      ]
     },
     "execution_count": 28,
     "metadata": {},
     "output_type": "execute_result"
    }
   ],
   "source": [
    "[x ** 2 for x in range(1, 11)]"
   ]
  },
  {
   "cell_type": "code",
   "execution_count": null,
   "metadata": {},
   "outputs": [
    {
     "name": "stdout",
     "output_type": "stream",
     "text": [
      "2\n",
      "4\n",
      "6\n",
      "8\n",
      "10\n"
     ]
    }
   ],
   "source": [
    "x=input()\n",
    "x=int(x)\n",
    "y=2\n",
    "while y<x:\n",
    "    \n",
    "    print(y)\n",
    "\n",
    "    if y==10:\n",
    "        break\n",
    "    \n",
    "    y =y +2\n",
    "\n"
   ]
  },
  {
   "cell_type": "code",
   "execution_count": 44,
   "metadata": {},
   "outputs": [
    {
     "name": "stdout",
     "output_type": "stream",
     "text": [
      "7\n",
      "15\n",
      "24\n",
      "32\n",
      "32\n"
     ]
    }
   ],
   "source": [
    "count=0\n",
    "while True:\n",
    "    x = input(x)\n",
    "    x = int(x)\n",
    "    count=count + x\n",
    "    print(count)\n",
    "\n",
    "    if x == 0 :\n",
    "        break\n"
   ]
  },
  {
   "cell_type": "code",
   "execution_count": 45,
   "metadata": {},
   "outputs": [
    {
     "name": "stdout",
     "output_type": "stream",
     "text": [
      "3\n",
      "15\n",
      "9\n",
      "7\n"
     ]
    }
   ],
   "source": [
    "my_list=[3,8,15,10,9,7,14]\n",
    "\n",
    "for x in my_list:\n",
    "    if x % 2 ==0:\n",
    "        continue\n",
    "    print(x)"
   ]
  },
  {
   "cell_type": "code",
   "execution_count": 46,
   "metadata": {},
   "outputs": [
    {
     "name": "stdout",
     "output_type": "stream",
     "text": [
      "10 12 8\n"
     ]
    }
   ],
   "source": [
    "#unpacking\n",
    "\n",
    "my_list=[10,12,8]\n",
    "x,y,z=my_list\n",
    "print(x,y,z)"
   ]
  },
  {
   "cell_type": "code",
   "execution_count": 49,
   "metadata": {},
   "outputs": [
    {
     "name": "stdout",
     "output_type": "stream",
     "text": [
      "sawani 22\n"
     ]
    }
   ],
   "source": [
    "my_dic={\n",
    "    \"name\":\"sawani\",\n",
    "    \"age\":22\n",
    "}\n",
    "x,y= my_dic.values()\n",
    "print(x,y)"
   ]
  },
  {
   "cell_type": "code",
   "execution_count": 50,
   "metadata": {},
   "outputs": [
    {
     "name": "stdout",
     "output_type": "stream",
     "text": [
      "name sawani\n",
      "age 22\n"
     ]
    }
   ],
   "source": [
    "my_dic={\n",
    "    \"name\":\"sawani\",\n",
    "    \"age\":22\n",
    "}\n",
    "for key, value in my_dic.items():\n",
    "    print(key, value)"
   ]
  },
  {
   "cell_type": "code",
   "execution_count": 54,
   "metadata": {},
   "outputs": [
    {
     "name": "stdout",
     "output_type": "stream",
     "text": [
      "{'age': 22, 'l': 22}\n"
     ]
    }
   ],
   "source": [
    "my_dic_1={\n",
    "    \"age\":22\n",
    "}\n",
    "my_dic_2={\n",
    "    \"l\":22\n",
    "}\n",
    "my_dic_3= my_dic_1 | my_dic_2\n",
    "print(my_dic_3)"
   ]
  },
  {
   "cell_type": "code",
   "execution_count": 57,
   "metadata": {},
   "outputs": [
    {
     "name": "stdout",
     "output_type": "stream",
     "text": [
      "22\n",
      "None\n"
     ]
    }
   ],
   "source": [
    "my_dic_1={\n",
    "    \"age\":22\n",
    "}\n",
    "print(my_dic_1.get(key,\"age\"))\n",
    "print(my_dic_1.get('b'))"
   ]
  },
  {
   "cell_type": "code",
   "execution_count": 2,
   "metadata": {},
   "outputs": [
    {
     "name": "stdout",
     "output_type": "stream",
     "text": [
      "5\n"
     ]
    }
   ],
   "source": [
    "\n",
    "def  addtion(a,b):\n",
    " return a+b\n",
    "\n",
    "print(addtion(1,4))\n"
   ]
  },
  {
   "cell_type": "code",
   "execution_count": 3,
   "metadata": {},
   "outputs": [
    {
     "name": "stdout",
     "output_type": "stream",
     "text": [
      "154.0\n"
     ]
    }
   ],
   "source": [
    "def calArea(r):\n",
    "    return (22 * r * r)/7\n",
    "\n",
    "print(calArea(7))\n"
   ]
  },
  {
   "cell_type": "code",
   "execution_count": 5,
   "metadata": {},
   "outputs": [
    {
     "name": "stdout",
     "output_type": "stream",
     "text": [
      "7.5\n"
     ]
    }
   ],
   "source": [
    "my_list=[4,8,12,5,9,7]\n",
    "\n",
    "def getAvg(myList):\n",
    "    \n",
    "    return sum(myList)/len(myList)\n",
    "\n",
    "print(getAvg(my_list))"
   ]
  },
  {
   "cell_type": "code",
   "execution_count": 10,
   "metadata": {},
   "outputs": [
    {
     "name": "stdout",
     "output_type": "stream",
     "text": [
      "[4, 12, 9]\n"
     ]
    }
   ],
   "source": [
    "my_list=[4,8,12,5,9,7]\n",
    "\n",
    "print(my_list[::2])"
   ]
  },
  {
   "cell_type": "code",
   "execution_count": 8,
   "metadata": {},
   "outputs": [
    {
     "name": "stdout",
     "output_type": "stream",
     "text": [
      "motor vehicle\n",
      "FB 15\n",
      "after update\n",
      "FB-15\n",
      "Sunny\n"
     ]
    }
   ],
   "source": [
    "class Car:\n",
    "    cateroty=\"motor vehicle\"\n",
    "\n",
    "    def display(self):\n",
    "        print(self.model)\n",
    "\n",
    "    def __init__(self,model,name):\n",
    "        self.model=model\n",
    "        self.name=name\n",
    "    \n",
    "    def update(self,model,name):\n",
    "        self.model=model\n",
    "        self.name=name\n",
    "\n",
    "\n",
    "new_car=Car(\"FB 15\",\"Ex saloon\")\n",
    "print(new_car.cateroty)\n",
    "new_car.display()\n",
    "new_car.update(\"FB-15\",\"Sunny\")\n",
    "print(\"after update\")\n",
    "new_car.display()\n",
    "print(new_car.name)\n"
   ]
  },
  {
   "cell_type": "code",
   "execution_count": 15,
   "metadata": {},
   "outputs": [
    {
     "name": "stdout",
     "output_type": "stream",
     "text": [
      "Balance 0\n",
      "Balance 1000\n",
      "Balance 500\n",
      "In sufficient balance\n"
     ]
    }
   ],
   "source": [
    "class BankAcc:\n",
    "\n",
    "\n",
    "    def __init__(self,acc_holder,balance=0):\n",
    "            self.acc_holder=acc_holder\n",
    "            self.balance=balance\n",
    "\n",
    "    def deposit(self,amount):\n",
    "        if amount<0:\n",
    "             print(\"Incorrect amount\")\n",
    "        else: \n",
    "            self.balance=self.balance+amount\n",
    "    \n",
    "    def withdrow(self,amount):\n",
    "        if self.balance-amount<0:\n",
    "             print(\"In sufficient balance\")\n",
    "        else:\n",
    "            self.balance=self.balance-amount\n",
    "    def display(self):\n",
    "        print(\"Balance\", self.balance)\n",
    "\n",
    "new_bank_acc= BankAcc(\"sawani\")\n",
    "new_bank_acc.display()\n",
    "new_bank_acc.deposit(1000)\n",
    "new_bank_acc.display()\n",
    "new_bank_acc.withdrow(500)\n",
    "new_bank_acc.display()\n",
    "new_bank_acc.withdrow(2500)\n",
    "        \n",
    "\n"
   ]
  },
  {
   "cell_type": "code",
   "execution_count": 21,
   "metadata": {},
   "outputs": [
    {
     "name": "stdout",
     "output_type": "stream",
     "text": [
      "name :  Chilli\n",
      "Shadow Brown\n"
     ]
    }
   ],
   "source": [
    "class Animal:\n",
    "    def __init__(self,name):\n",
    "       self.name=name\n",
    "    \n",
    "    def speak(self):\n",
    "        pass\n",
    "    \n",
    "\n",
    "class Dog(Animal):\n",
    "    \n",
    "    def __init__(self,name,color):\n",
    "        #self.name=name\n",
    "        super().__init__(name)# super class eke constructor call krnw child class eke contructor eke idn\n",
    "        self.color=color\n",
    "\n",
    "\n",
    "    def speak(self):\n",
    "        print(self.name)\n",
    "\n",
    "class Cat(Animal):\n",
    "    def speak(self):\n",
    "        print(self.name)\n",
    "\n",
    "cat_1=Cat(\"Chilli\")\n",
    "print(\"name : \",cat_1.name)\n",
    "dog_1=Dog(\"Shadow\",\"Brown\")\n",
    "print(dog_1.name, dog_1.color)\n",
    "        "
   ]
  },
  {
   "cell_type": "code",
   "execution_count": 32,
   "metadata": {},
   "outputs": [
    {
     "name": "stdout",
     "output_type": "stream",
     "text": [
      "Genre:  Fiction\n",
      "ISBN :  I1001\n",
      "Title :  Madolduwa\n",
      "Author :  Martin Wickramasinghe\n",
      "Year :  1980\n",
      "Genre:  2024-01\n",
      "Title :  Tech Today\n",
      "Author :  John Doe\n",
      "Year :  2024\n"
     ]
    }
   ],
   "source": [
    "#base class- LibraryItem, attributes- title(String), author(string), publication_year(int)\n",
    "#methods- display_info print the details of an item\n",
    "#sub class1-Book-additional attributes-genre(String),isbn(string), overide-displayinfo- printThe details with genre ,isbn\n",
    "#derived class-Magazine inherict from Library-Item addional attributes-issue(String),date(String), overinde display_info(including issue)\n",
    "# task- crete instance of each class(book,magazine)with appropriate values\n",
    "#call the display info methods for each instance to test inheritance and method overide\n",
    "\n",
    "\n",
    "class LibraryItem:\n",
    "    def __init__(self,title,author,publication_year):\n",
    "        self.title=title\n",
    "        self.author=author\n",
    "        self.publication_year=publication_year\n",
    "\n",
    "    def display_info(self):\n",
    "        print(\"Title : \",self.title)\n",
    "        print(\"Author : \",self.author)\n",
    "        print(\"Year : \",self.publication_year)\n",
    "\n",
    "class Book(LibraryItem):\n",
    "    def __init__(self,title,author,publication_year,genre,isbn):\n",
    "        super().__init__(title,author,publication_year)\n",
    "        self.genre=genre\n",
    "        self.isbn=isbn\n",
    "\n",
    "    def display_info(self):\n",
    "        print(\"Genre: \",self.genre)\n",
    "        print(\"ISBN : \",self.isbn)\n",
    "        super().display_info()\n",
    "\n",
    "class Magezine(LibraryItem):\n",
    "    def __init__(self,title,author,publication_year,issue_no):\n",
    "        super().__init__(title,author,publication_year)\n",
    "        self.issue_no=issue_no\n",
    "\n",
    "    def display_info(self):\n",
    "       print(\"Genre: \",self.issue_no)\n",
    "       super().display_info()   \n",
    "\n",
    "\n",
    "\n",
    "book = Book(\"Madolduwa\", \"Martin Wickramasinghe\", \"1980\", \"Fiction\", \"I1001\")\n",
    "book.display_info()\n",
    "\n",
    "\n",
    "magazine = Magezine(\"Tech Today\", \"John Doe\", \"2024\", \"2024-01\")\n",
    "magazine.display_info()\n",
    "\n",
    "\n",
    "\n",
    "\n"
   ]
  },
  {
   "cell_type": "code",
   "execution_count": 35,
   "metadata": {},
   "outputs": [
    {
     "name": "stdout",
     "output_type": "stream",
     "text": [
      "test_1\n"
     ]
    }
   ],
   "source": [
    "class MyClass:\n",
    "    def __init__(self,protected_var,private_var) :\n",
    "        self._protected_var=protected_var\n",
    "        self.__private_var=private_var\n",
    "\n",
    "my_obj=MyClass(\"test_1\",\"test_2\")\n",
    "print(my_obj._protected_var)# not encourage\n",
    "#print(my_obj.__private_var)#error"
   ]
  },
  {
   "cell_type": "code",
   "execution_count": 37,
   "metadata": {},
   "outputs": [
    {
     "name": "stdout",
     "output_type": "stream",
     "text": [
      "Value of details Encapsulated data\n",
      "Value of details Sawani\n"
     ]
    }
   ],
   "source": [
    "class Example:\n",
    "    def __init__(self):\n",
    "        self.__data=\"Encapsulated data\"\n",
    "    \n",
    "    def get_value(self):\n",
    "        print(\"Value of details\",self.__data)\n",
    "    \n",
    "    def set_value(self,new_value):\n",
    "        self.__data=new_value\n",
    "\n",
    "\n",
    "example=Example()\n",
    "example.get_value()\n",
    "example.set_value(\"Sawani\")\n",
    "example.get_value()"
   ]
  },
  {
   "cell_type": "code",
   "execution_count": 21,
   "metadata": {},
   "outputs": [
    {
     "name": "stdout",
     "output_type": "stream",
     "text": [
      "complex roots\n",
      "-0.5  +  1.9364916731037085\n"
     ]
    }
   ],
   "source": [
    "# write a python program to create class Name-Quadatric Equation that represents Equation for ax^2+bx+c=0\n",
    "#private attributes a,b,c to store the co-officientof the quadatric equation\n",
    "\n",
    "# a constructor to initilize the co officient a,b,c\n",
    "#a private method to discriminent that caluculates an retrun the distriminent(D=b^2 -4ac)\n",
    "# a public method to find roots that use the private  discriminent method  return the root of the Quadatric Equation\n",
    "#if d=0, one real root D<0, 2 complex roots, D>0 2 disticnt real roots\n",
    "import math\n",
    "class QuadatricEquation:\n",
    "    \n",
    "    def __init__(self,a,b,c):\n",
    "        self.a=a\n",
    "        self.b=b\n",
    "        self.c=c\n",
    "    \n",
    "    #def get_value(self):\n",
    "      #  print(\"Value of details\",self.__data)\n",
    "    \n",
    "    #def set_value(self,new_value):\n",
    "        #self.__data=new_value\n",
    "    \n",
    "    def  __discriminent(self):\n",
    "       return self.b*self.b- (4 * self.a * self.c)\n",
    "    \n",
    "    def find_roots(self):\n",
    "        d=self.__discriminent()\n",
    "        if d > 0:\n",
    "            print(\"two roots\")\n",
    "            print((-self.b+ math.sqrt(d))/2*self.a)\n",
    "            print((-self.b - math.sqrt(d))/2*self.a)\n",
    "        \n",
    "        elif d==0:\n",
    "            print(\"one root\")\n",
    "            print((-self.b+ math.sqrt(d))/2*self.a)\n",
    "        \n",
    "        else:\n",
    "            print(\"complex roots\")\n",
    "            real_part= - self.b / 2*self.a\n",
    "            complex_part=math.sqrt(-d)/2*self.a\n",
    "            print(real_part ,\" + \",complex_part)\n",
    "        \n",
    "    \n",
    "x=QuadatricEquation(1,1,4)\n",
    "x.find_roots()\n",
    "\n",
    "          \n",
    "           \n",
    "\n"
   ]
  },
  {
   "cell_type": "code",
   "execution_count": 1,
   "metadata": {},
   "outputs": [
    {
     "name": "stdout",
     "output_type": "stream",
     "text": [
      "aaaaa\n",
      "\n"
     ]
    }
   ],
   "source": [
    "file_1=open(\"my_file.txt\",\"r\")\n",
    "file_1_content=file_1.readline()\n",
    "print(file_1_content)\n",
    "# readline eken read wenne cursor ek thiyn point eke idn e line eke thiyn tika witri /n kyn ek auto dgannw"
   ]
  },
  {
   "cell_type": "code",
   "execution_count": 3,
   "metadata": {},
   "outputs": [
    {
     "name": "stdout",
     "output_type": "stream",
     "text": [
      "type :  <class 'list'>   ['aaaaa\\n', 'bbbbb\\n', 'ccccc']\n"
     ]
    }
   ],
   "source": [
    "file_1=open(\"my_file.txt\",\"r\")\n",
    "file_1_content=file_1.readlines()\n",
    "print(\"type : \",type(file_1_content),\" \",file_1_content)\n",
    "file_1.close()"
   ]
  },
  {
   "cell_type": "code",
   "execution_count": 11,
   "metadata": {},
   "outputs": [],
   "source": [
    "with open(\"my_file_1.txt\",\"w\") as file:\n",
    "    file.writelines([\"This is our \\n\",\"python class\\n\"])\n",
    "    "
   ]
  },
  {
   "cell_type": "code",
   "execution_count": 15,
   "metadata": {},
   "outputs": [],
   "source": [
    "with open(\"my_file_1.txt\",\"a\") as file:\n",
    "    file.write(\"\\nwe are globle citizens\")"
   ]
  },
  {
   "cell_type": "code",
   "execution_count": 13,
   "metadata": {},
   "outputs": [
    {
     "name": "stdout",
     "output_type": "stream",
     "text": [
      "1 to add new \n",
      " 2 to view all \n",
      " 3 to exist\n",
      "\n",
      "\n",
      "sawani s s\n",
      "\n",
      "sawani s s\n",
      "\n",
      "sawani ss ss\n",
      "\n",
      "1 to add new \n",
      " 2 to view all \n",
      " 3 to exist\n"
     ]
    }
   ],
   "source": [
    "#implement a simple contact management system\n",
    "#create a program that stores and manage contacts in a file name contacts.txt each contact entity should include phone, name, email\n",
    "# features- add the new contact(append to the file), view all (read and display all contact and files),exist the program\n",
    "def add_new():\n",
    "    name=input(\"Name\")\n",
    "    contact=input(\"contact\")\n",
    "    email=input(\"email\")\n",
    "\n",
    "    with open(\"contact_file.txt\",\"a\")as file:\n",
    "        file.write(name+\" \"+contact+\" \"+email+\"\\n\")\n",
    "\n",
    "\n",
    "def viewAll():\n",
    "    with open(\"contact_file.txt\",\"r\") as file:\n",
    "        content=file.readlines()\n",
    "        for contact in content:\n",
    "            print(contact)\n",
    "       \n",
    "\n",
    "while True:\n",
    "    print(\"1 to add new \\n 2 to view all \\n 3 to exist\")\n",
    "    command=input(\"enter command :\")\n",
    "    command=int(command)\n",
    "    match command:\n",
    "        case 1:\n",
    "            add_new()\n",
    "        \n",
    "        case 2:\n",
    "            viewAll()\n",
    "        \n",
    "        case 3:\n",
    "            break\n",
    "\n",
    "        case _:\n",
    "            print(\"Invalid input\")"
   ]
  },
  {
   "cell_type": "code",
   "execution_count": 2,
   "metadata": {},
   "outputs": [
    {
     "name": "stdout",
     "output_type": "stream",
     "text": [
      "{'fruit': 'Apple', 'size': 'Large', 'color': 'Red'}\n"
     ]
    }
   ],
   "source": [
    "import json\n",
    "json_file_path='example1.json'\n",
    "\n",
    "#open json file for reading\n",
    "with open(json_file_path,'r') as json_file:\n",
    "    #load the data into python dictonary\n",
    "    data=json.load(json_file) \n",
    "\n",
    "print(data)"
   ]
  },
  {
   "cell_type": "code",
   "execution_count": null,
   "metadata": {},
   "outputs": [],
   "source": []
  },
  {
   "cell_type": "code",
   "execution_count": 5,
   "metadata": {},
   "outputs": [],
   "source": [
    "data={\n",
    "    \"name\":\"sawani\",\n",
    "    \"age\": 22,\n",
    "    \"city\":\"mathugama\"\n",
    "}\n",
    "\n",
    "json_file_path='test.json'\n",
    "\n",
    "with open(json_file_path,'w')as file:\n",
    "    jason_data=json.dumps(data,indent=4)# dumps return a json string\n",
    "    file.write(jason_data)\n",
    "\n"
   ]
  },
  {
   "cell_type": "code",
   "execution_count": 19,
   "metadata": {},
   "outputs": [
    {
     "name": "stdout",
     "output_type": "stream",
     "text": [
      "Alice\n",
      "charlie\n",
      "sawani\n"
     ]
    }
   ],
   "source": [
    "#students.json wchich contains information about students and their grades your task is to read the json file display the name of all students who \n",
    "# scored 75, add the new student to file\n",
    "# update the data\n",
    "def printData():\n",
    "    with open('students.json','r') as file:\n",
    "        data=json.load(file)\n",
    "        for student in data:\n",
    "            if(int(student[\"grade\"])>75):\n",
    "                print(student[\"name\"])\n",
    "    \n",
    "\n",
    "def add_new():\n",
    "\n",
    "    dic={\n",
    "\n",
    "        }\n",
    "    name=input(\"name\")  \n",
    "    score=input(\"score\")\n",
    "    score=int(score)\n",
    "    dic[\"name\"]=name\n",
    "    dic[\"grade\"]=score\n",
    "    with open('students.json','r') as file:\n",
    "        data=json.load(file)\n",
    "    with open ('students.json','w') as file:\n",
    "        data.append(dic)\n",
    "        json_data=json.dumps(data)\n",
    "        file.write(json_data)\n",
    "\n",
    "\n",
    "add_new()\n",
    "printData()\n"
   ]
  },
  {
   "cell_type": "code",
   "execution_count": 1,
   "metadata": {},
   "outputs": [
    {
     "name": "stdout",
     "output_type": "stream",
     "text": [
      "['Index', 'Customer Id', 'First Name', 'Last Name', 'Company', 'City', 'Country', 'Phone 1', 'Phone 2', 'Email', 'Subscription Date', 'Website'] <class 'list'>\n",
      "['1', 'DD37Cf93aecA6Dc', 'Sheryl', 'Baxter', 'Rasmussen Group', 'East Leonard', 'Chile', '229.077.5154', '397.884.0519x718', 'zunigavanessa@smith.info', '2020-08-24', 'http://www.stephenson.com/'] <class 'list'>\n",
      "['2', '1Ef7b82A4CAAD10', 'Preston', 'Lozano', 'Vega-Gentry', 'East Jimmychester', 'Djibouti', '5153435776', '686-620-1820x944', 'vmata@colon.com', '2021-04-23', 'http://www.hobbs.com/'] <class 'list'>\n",
      "['3', '6F94879bDAfE5a6', 'Roy', 'Berry', 'Murillo-Perry', 'Isabelborough', 'Antigua and Barbuda', '+1-539-402-0259', '(496)978-3969x58947', 'beckycarr@hogan.com', '2020-03-25', 'http://www.lawrence.com/'] <class 'list'>\n",
      "['4', '5Cef8BFA16c5e3c', 'Linda', 'Olsen', 'Dominguez, Mcmillan and Donovan', 'Bensonview', 'Dominican Republic', '001-808-617-6467x12895', '+1-813-324-8756', 'stanleyblackwell@benson.org', '2020-06-02', 'http://www.good-lyons.com/'] <class 'list'>\n",
      "['5', '053d585Ab6b3159', 'Joanna', 'Bender', 'Martin, Lang and Andrade', 'West Priscilla', 'Slovakia (Slovak Republic)', '001-234-203-0635x76146', '001-199-446-3860x3486', 'colinalvarado@miles.net', '2021-04-17', 'https://goodwin-ingram.com/'] <class 'list'>\n",
      "['6', '2d08FB17EE273F4', 'Aimee', 'Downs', 'Steele Group', 'Chavezborough', 'Bosnia and Herzegovina', '(283)437-3886x88321', '999-728-1637', 'louis27@gilbert.com', '2020-02-25', 'http://www.berger.net/'] <class 'list'>\n",
      "['7', 'EA4d384DfDbBf77', 'Darren', 'Peck', 'Lester, Woodard and Mitchell', 'Lake Ana', 'Pitcairn Islands', '(496)452-6181x3291', '+1-247-266-0963x4995', 'tgates@cantrell.com', '2021-08-24', 'https://www.le.com/'] <class 'list'>\n",
      "['8', '0e04AFde9f225dE', 'Brett', 'Mullen', 'Sanford, Davenport and Giles', 'Kimport', 'Bulgaria', '001-583-352-7197x297', '001-333-145-0369', 'asnow@colon.com', '2021-04-12', 'https://hammond-ramsey.com/'] <class 'list'>\n",
      "['9', 'C2dE4dEEc489ae0', 'Sheryl', 'Meyers', 'Browning-Simon', 'Robersonstad', 'Cyprus', '854-138-4911x5772', '+1-448-910-2276x729', 'mariokhan@ryan-pope.org', '2020-01-13', 'https://www.bullock.net/'] <class 'list'>\n",
      "['10', '8C2811a503C7c5a', 'Michelle', 'Gallagher', 'Beck-Hendrix', 'Elaineberg', 'Timor-Leste', '739.218.2516x459', '001-054-401-0347x617', 'mdyer@escobar.net', '2021-11-08', 'https://arias.com/'] <class 'list'>\n",
      "['11', '216E205d6eBb815', 'Carl', 'Schroeder', 'Oconnell, Meza and Everett', 'Shannonville', 'Guernsey', '637-854-0256x825', '114.336.0784x788', 'kirksalas@webb.com', '2021-10-20', 'https://simmons-hurley.com/'] <class 'list'>\n",
      "['12', 'CEDec94deE6d69B', 'Jenna', 'Dodson', 'Hoffman, Reed and Mcclain', 'East Andrea', 'Vietnam', '(041)737-3846', '+1-556-888-3485x42608', 'mark42@robbins.com', '2020-11-29', 'http://www.douglas.net/'] <class 'list'>\n",
      "['13', 'e35426EbDEceaFF', 'Tracey', 'Mata', 'Graham-Francis', 'South Joannamouth', 'Togo', '001-949-844-8787', '(855)713-8773', 'alex56@walls.org', '2021-12-02', 'http://www.beck.com/'] <class 'list'>\n",
      "['14', 'A08A8aF8BE9FaD4', 'Kristine', 'Cox', 'Carpenter-Cook', 'Jodyberg', 'Sri Lanka', '786-284-3358x62152', '+1-315-627-1796x8074', 'holdenmiranda@clarke.com', '2021-02-08', 'https://www.brandt.com/'] <class 'list'>\n",
      "['15', '6fEaA1b7cab7B6C', 'Faith', 'Lutz', 'Carter-Hancock', 'Burchbury', 'Singapore', '(781)861-7180x8306', '207-185-3665', 'cassieparrish@blevins-chapman.net', '2022-01-26', 'http://stevenson.org/'] <class 'list'>\n",
      "['16', '8cad0b4CBceaeec', 'Miranda', 'Beasley', 'Singleton and Sons', 'Desireeshire', 'Oman', '540.085.3135x185', '+1-600-462-6432x21881', 'vduncan@parks-hardy.com', '2022-04-12', 'http://acosta.org/'] <class 'list'>\n",
      "['17', 'a5DC21AE3a21eaA', 'Caroline', 'Foley', 'Winters-Mendoza', 'West Adriennestad', 'Western Sahara', '936.222.4746x9924', '001-469-948-6341x359', 'holtgwendolyn@watson-davenport.com', '2021-03-10', 'http://www.benson-roth.com/'] <class 'list'>\n",
      "['18', 'F8Aa9d6DfcBeeF8', 'Greg', 'Mata', 'Valentine LLC', 'Lake Leslie', 'Mozambique', '(701)087-2415', '(195)156-1861x26241', 'jaredjuarez@carroll.org', '2022-03-26', 'http://pitts-cherry.com/'] <class 'list'>\n",
      "['19', 'F160f5Db3EfE973', 'Clifford', 'Jacobson', 'Simon LLC', 'Harmonview', 'South Georgia and the South Sandwich Islands', '001-151-330-3524x0469', '(748)477-7174', 'joseph26@jacobson.com', '2020-09-24', 'https://mcconnell.com/'] <class 'list'>\n",
      "['20', '0F60FF3DdCd7aB0', 'Joanna', 'Kirk', 'Mays-Mccormick', 'Jamesshire', 'French Polynesia', '(266)131-7001x711', '(283)312-5579x11543', 'tuckerangie@salazar.net', '2021-09-24', 'https://www.camacho.net/'] <class 'list'>\n",
      "['21', '9F9AdB7B8A6f7F2', 'Maxwell', 'Frye', 'Patterson Inc', 'East Carly', 'Malta', '423.262.3059', '202-880-0688x7491', 'fgibson@drake-webb.com', '2022-01-12', 'http://www.roberts.com/'] <class 'list'>\n",
      "['22', 'FBd0Ded4F02a742', 'Kiara', 'Houston', 'Manning, Hester and Arroyo', 'South Alvin', 'Netherlands', '001-274-040-3582x10611', '+1-528-175-0973x4684', 'blanchardbob@wallace-shannon.com', '2020-09-15', 'https://www.reid-potts.com/'] <class 'list'>\n",
      "['23', '2FB0FAA1d429421', 'Colleen', 'Howard', 'Greer and Sons', 'Brittanyview', 'Paraguay', '1935085151', '(947)115-7711x5488', 'rsingleton@ryan-cherry.com', '2020-08-19', 'http://paul.biz/'] <class 'list'>\n",
      "['24', '010468dAA11382c', 'Janet', 'Valenzuela', 'Watts-Donaldson', 'Veronicamouth', \"Lao People's Democratic Republic\", '354.259.5062x7538', '500.433.2022', 'stefanie71@spence.com', '2020-09-08', 'https://moreno.biz/'] <class 'list'>\n",
      "['25', 'eC1927Ca84E033e', 'Shane', 'Wilcox', 'Tucker LLC', 'Bryanville', 'Albania', '(429)005-9030x11004', '541-116-4501', 'mariah88@santos.com', '2021-04-06', 'https://www.ramos.com/'] <class 'list'>\n",
      "['26', '09D7D7C8Fe09aea', 'Marcus', 'Moody', 'Giles Ltd', 'Kaitlyntown', 'Panama', '674-677-8623', '909-277-5485x566', 'donnamullins@norris-barrett.org', '2022-05-24', 'https://www.curry.com/'] <class 'list'>\n",
      "['27', 'aBdfcF2c50b0bfD', 'Dakota', 'Poole', 'Simmons Group', 'Michealshire', 'Belarus', '(371)987-8576x4720', '071-152-1376', 'stacey67@fields.org', '2022-02-20', 'https://sanford-wilcox.biz/'] <class 'list'>\n",
      "['28', 'b92EBfdF8a3f0E6', 'Frederick', 'Harper', 'Hinton, Chaney and Stokes', 'South Marissatown', 'Switzerland', '+1-077-121-1558x0687', '264.742.7149', 'jacobkhan@bright.biz', '2022-05-26', 'https://callahan.org/'] <class 'list'>\n",
      "['29', '3B5dAAFA41AFa22', 'Stefanie', 'Fitzpatrick', 'Santana-Duran', 'Acevedoville', 'Saint Vincent and the Grenadines', '(752)776-3286', '+1-472-021-4814x85074', 'wterrell@clark.com', '2020-07-30', 'https://meyers.com/'] <class 'list'>\n",
      "['30', 'EDA69ca7a6e96a2', 'Kent', 'Bradshaw', 'Sawyer PLC', 'North Harold', 'Tanzania', '+1-472-143-5037x884', '126.922.6153', 'qjimenez@boyd.com', '2020-04-26', 'http://maynard-ho.com/'] <class 'list'>\n",
      "['31', '64DCcDFaB9DFd4e', 'Jack', 'Tate', 'Acosta, Petersen and Morrow', 'West Samuel', 'Zimbabwe', '965-108-4406x20714', '046.906.1442x6784', 'gfigueroa@boone-zavala.com', '2021-09-15', 'http://www.hawkins-ramsey.com/'] <class 'list'>\n",
      "['32', '679c6c83DD872d6', 'Tom', 'Trujillo', 'Mcgee Group', 'Cunninghamborough', 'Denmark', '416-338-3758', '(775)890-7209', 'tapiagreg@beard.info', '2022-01-13', 'http://www.daniels-klein.com/'] <class 'list'>\n",
      "['33', '7Ce381e4Afa4ba9', 'Gabriel', 'Mejia', 'Adkins-Salinas', 'Port Annatown', 'Liechtenstein', '4077245425', '646.044.0696x66800', 'coleolson@jennings.net', '2021-04-24', 'https://patel-hanson.info/'] <class 'list'>\n",
      "['34', 'A09AEc6E3bF70eE', 'Kaitlyn', 'Santana', 'Herrera Group', 'New Kaitlyn', 'United States of America', '6303643286', '447-710-6202x07313', 'georgeross@miles.org', '2021-09-21', 'http://pham.com/'] <class 'list'>\n",
      "['35', 'aA9BAFfBc3710fe', 'Faith', 'Moon', 'Waters, Chase and Aguilar', 'West Marthaburgh', 'Bahamas', '+1-586-217-0359x6317', '+1-818-199-1403', 'willistonya@randolph-baker.com', '2021-11-03', 'https://spencer-charles.info/'] <class 'list'>\n",
      "['36', 'E11dfb2DB8C9f72', 'Tammie', 'Haley', 'Palmer, Barnes and Houston', 'East Teresa', 'Belize', '001-276-734-4113x6087', '(430)300-8770', 'harrisisaiah@jenkins.com', '2022-01-04', 'http://evans-simon.com/'] <class 'list'>\n",
      "['37', '889eCf90f68c5Da', 'Nicholas', 'Sosa', 'Jordan Ltd', 'South Hunter', 'Uruguay', '(661)425-6042', '975-998-1519', 'fwolfe@dorsey.com', '2021-08-10', 'https://www.fleming-richards.com/'] <class 'list'>\n",
      "['38', '7a1Ee69F4fF4B4D', 'Jordan', 'Gay', 'Glover and Sons', 'South Walter', 'Solomon Islands', '7208417020', '8035336772', 'tiffanydavies@harris-mcfarland.org', '2021-02-24', 'http://www.lee.org/'] <class 'list'>\n",
      "['39', 'dca4f1D0A0fc5c9', 'Bruce', 'Esparza', 'Huerta-Mclean', 'Poolefurt', 'Montenegro', '559-529-4424', '001-625-000-7132x0367', 'preese@frye-vega.com', '2021-10-22', 'http://www.farley.org/'] <class 'list'>\n",
      "['40', '17aD8e2dB3df03D', 'Sherry', 'Garza', 'Anderson Ltd', 'West John', 'Poland', '001-067-713-6440x158', '(978)289-8785x5766', 'ann48@miller.com', '2021-11-01', 'http://spence.com/'] <class 'list'>\n",
      "['41', '2f79Cd309624Abb', 'Natalie', 'Gentry', 'Monroe PLC', 'West Darius', 'Dominican Republic', '830.996.8238', '499.122.5415', 'tcummings@fitzpatrick-ashley.com', '2020-10-10', 'http://www.dorsey.biz/'] <class 'list'>\n",
      "['42', '6e5ad5a5e2bB5Ca', 'Bryan', 'Dunn', 'Kaufman and Sons', 'North Jimstad', 'Burkina Faso', '001-710-802-5565', '078.699.8982x13881', 'woodwardandres@phelps.com', '2021-09-08', 'http://www.butler.com/'] <class 'list'>\n",
      "['43', '7E441b6B228DBcA', 'Wayne', 'Simpson', 'Perkins-Trevino', 'East Rebekahborough', 'Bolivia', '(344)156-8632x1869', '463-445-3702x38463', 'barbarapittman@holder.com', '2020-12-13', 'https://gillespie-holder.com/'] <class 'list'>\n",
      "['44', 'D3fC11A9C235Dc6', 'Luis', 'Greer', 'Cross PLC', 'North Drew', 'Bulgaria', '001-336-025-6849x701', '684.698.2911x6092', 'bstuart@williamson-mcclure.com', '2022-05-15', 'https://fletcher-nielsen.com/'] <class 'list'>\n",
      "['45', '30Dfa48fe5Ede78', 'Rhonda', 'Frost', 'Herrera, Shepherd and Underwood', 'Lake Lindaburgh', 'Monaco', '(127)081-9339', '+1-431-028-3337x3492', 'zkrueger@wolf-chavez.net', '2021-12-06', 'http://www.khan.com/'] <class 'list'>\n",
      "['46', 'fD780ED8dbEae7B', 'Joanne', 'Montes', 'Price, Sexton and Mcdaniel', 'Gwendolynview', 'Palau', '(897)726-7952', '(467)886-9467x5721', 'juan80@henson.net', '2020-07-01', 'http://ochoa.com/'] <class 'list'>\n",
      "['47', '300A40d3ce24bBA', 'Geoffrey', 'Guzman', 'Short-Wiggins', 'Zimmermanland', 'Uzbekistan', '975.235.8921x269', '(983)188-6873', 'bauercrystal@gay.com', '2020-04-23', 'https://decker-kline.com/'] <class 'list'>\n",
      "['48', '283DFCD0Dba40aF', 'Gloria', 'Mccall', 'Brennan, Acosta and Ramos', 'North Kerriton', 'Ghana', '445-603-6729', '001-395-959-4736x4524', 'bartlettjenna@zuniga-moss.biz', '2022-03-11', 'http://burgess-frank.com/'] <class 'list'>\n",
      "['49', 'F4Fc91fEAEad286', 'Brady', 'Cohen', 'Osborne-Erickson', 'North Eileenville', 'United Arab Emirates', '741.849.0139x524', '+1-028-691-7497x0894', 'mccalltyrone@durham-rose.biz', '2022-03-10', 'http://hammond-barron.com/'] <class 'list'>\n",
      "['50', '80F33Fd2AcebF05', 'Latoya', 'Mccann', 'Hobbs, Garrett and Sanford', 'Port Sergiofort', 'Belarus', '(530)287-4548x29481', '162-234-0249x32790', 'bobhammond@barry.biz', '2021-12-02', 'https://www.burton.com/'] <class 'list'>\n",
      "['51', 'Aa20BDe68eAb0e9', 'Gerald', 'Hawkins', 'Phelps, Forbes and Koch', 'New Alberttown', 'Canada', '+1-323-239-1456x96168', '(092)508-0269', 'uwarner@steele-arias.com', '2021-03-19', 'https://valenzuela.com/'] <class 'list'>\n",
      "['52', 'e898eEB1B9FE22b', 'Samuel', 'Crawford', 'May, Goodwin and Martin', 'South Jasmine', 'Algeria', '802-242-7457', '626.116.9535x8578', 'xpittman@ritter-carney.net', '2021-03-27', 'https://guerrero.org/'] <class 'list'>\n",
      "['53', 'faCEF517ae7D8eB', 'Patricia', 'Goodwin', 'Christian, Winters and Ellis', 'Cowanfort', 'Swaziland', '322.549.7139x70040', '(111)741-4173', 'vaughanchristy@lara.biz', '2021-03-08', 'http://clark.info/'] <class 'list'>\n",
      "['54', 'c09952De6Cda8aA', 'Stacie', 'Richard', 'Byrd Inc', 'New Deborah', 'Madagascar', '001-622-948-3641x24810', '001-731-168-2893x8891', 'clinton85@colon-arias.org', '2020-10-15', 'https://kim.com/'] <class 'list'>\n",
      "['55', 'f3BEf3Be028166f', 'Robin', 'West', 'Nixon, Blackwell and Sosa', 'Wallstown', 'Ecuador', '698.303.4267', '001-683-837-7651x525', 'greenemiranda@zimmerman.com', '2022-01-13', 'https://www.mora.com/'] <class 'list'>\n",
      "['56', 'C6F2Fc6a7948a4e', 'Ralph', 'Haas', 'Montes PLC', 'Lake Ellenchester', 'Palestinian Territory', '2239271999', '001-962-434-0867x649', 'goodmancesar@figueroa.biz', '2020-05-25', 'http://may.com/'] <class 'list'>\n",
      "['57', 'c8FE57cBBdCDcb2', 'Phyllis', 'Maldonado', 'Costa PLC', 'Lake Whitney', 'Saint Barthelemy', '4500370767', '001-508-064-6725x017', 'yhanson@warner-diaz.org', '2021-01-25', 'http://www.bernard.com/'] <class 'list'>\n",
      "['58', 'B5acdFC982124F2', 'Danny', 'Parrish', 'Novak LLC', 'East Jaredbury', 'United Arab Emirates', '(669)384-8597x8794', '506.731.5952x571', 'howelldarren@house-cohen.com', '2021-03-17', 'http://www.parsons-hudson.com/'] <class 'list'>\n",
      "['59', '8c7DdF10798bCC3', 'Kathy', 'Hill', 'Moore, Mccoy and Glass', 'Selenabury', 'South Georgia and the South Sandwich Islands', '001-171-716-2175x310', '888.625.0654', 'ncamacho@boone-simmons.org', '2020-11-15', 'http://hayden.com/'] <class 'list'>\n",
      "['60', 'C681dDd0cc422f7', 'Kelli', 'Hardy', 'Petty Ltd', 'Huangfort', 'Sao Tome and Principe', '020.324.2191x2022', '424-157-8216', 'kristopher62@oliver.com', '2020-12-20', 'http://www.kidd.com/'] <class 'list'>\n",
      "['61', 'a940cE42e035F28', 'Lynn', 'Pham', 'Brennan, Camacho and Tapia', 'East Pennyshire', 'Portugal', '846.468.6834x611', '001-248-691-0006', 'mpham@rios-guzman.com', '2020-08-21', 'https://www.murphy.com/'] <class 'list'>\n",
      "['62', '9Cf5E6AFE0aeBfd', 'Shelley', 'Harris', 'Prince, Malone and Pugh', 'Port Jasminborough', 'Togo', '423.098.0315x8373', '+1-386-458-8944x15194', 'zachary96@mitchell-bryant.org', '2020-12-10', 'https://www.ryan.com/'] <class 'list'>\n",
      "['63', 'aEcbe5365BbC67D', 'Eddie', 'Jimenez', 'Caldwell Group', 'West Kristine', 'Ethiopia', '+1-235-657-1073x6306', '(026)401-7353x2417', 'kristiwhitney@bernard.com', '2022-03-24', 'http://cherry.com/'] <class 'list'>\n",
      "['64', 'FCBdfCEAe20A8Dc', 'Chloe', 'Hutchinson', 'Simon LLC', 'South Julia', 'Netherlands', '981-544-9452', '+1-288-552-4666x060', 'leah85@sutton-terrell.com', '2022-05-15', 'https://mitchell.info/'] <class 'list'>\n",
      "['65', '636cBF0835E10ff', 'Eileen', 'Lynch', 'Knight, Abbott and Hubbard', 'Helenborough', 'Liberia', '+1-158-951-4131x53578', '001-673-779-6713x680', 'levigiles@vincent.com', '2021-01-02', 'http://mckay.com/'] <class 'list'>\n",
      "['66', 'fF1b6c9E8Fbf1ff', 'Fernando', 'Lambert', 'Church-Banks', 'Lake Nancy', 'Lithuania', '497.829.9038', '3863743398', 'fisherlinda@schaefer.net', '2021-04-23', 'https://www.vang.com/'] <class 'list'>\n",
      "['67', '2A13F74EAa7DA6c', 'Makayla', 'Cannon', 'Henderson Inc', 'Georgeport', 'New Caledonia', '001-215-801-6392x46009', '027-609-6460', 'scottcurtis@hurley.biz', '2020-01-20', 'http://www.velazquez.net/'] <class 'list'>\n",
      "['68', 'a014Ec1b9FccC1E', 'Tom', 'Alvarado', 'Donaldson-Dougherty', 'South Sophiaberg', 'Kiribati', '(585)606-2980x2258', '730-797-3594x5614', 'nicholsonnina@montgomery.info', '2020-08-18', 'http://odom-massey.com/'] <class 'list'>\n",
      "['69', '421a109cABDf5fa', 'Virginia', 'Dudley', 'Warren Ltd', 'Hartbury', 'French Southern Territories', '027.846.3705x14184', '+1-439-171-1846x4636', 'zvalencia@phelps.com', '2021-01-31', 'http://hunter-esparza.com/'] <class 'list'>\n",
      "['70', 'CC68FD1D3Bbbf22', 'Riley', 'Good', 'Wade PLC', 'Erikaville', 'Canada', '6977745822', '855-436-7641', 'alex06@galloway.com', '2020-02-03', 'http://conway.org/'] <class 'list'>\n",
      "['71', 'CBCd2Ac8E3eBDF9', 'Alexandria', 'Buck', 'Keller-Coffey', 'Nicolasfort', 'Iran', '078-900-4760x76668', '414-112-8700x68751', 'lee48@manning.com', '2021-02-20', 'https://ramsey.org/'] <class 'list'>\n",
      "['72', 'Ef859092FbEcC07', 'Richard', 'Roth', 'Conway-Mcbride', 'New Jasmineshire', 'Morocco', '581-440-6539', '9857827463', 'aharper@maddox-townsend.org', '2020-02-23', 'https://www.brooks.com/'] <class 'list'>\n",
      "['73', 'F560f2d3cDFb618', 'Candice', 'Keller', 'Huynh and Sons', 'East Summerstad', 'Zimbabwe', '001-927-965-8550x92406', '001-243-038-4271x53076', 'buckleycory@odonnell.net', '2020-08-22', 'https://www.lucero.com/'] <class 'list'>\n",
      "['74', 'A3F76Be153Df4a3', 'Anita', 'Benson', 'Parrish Ltd', 'Skinnerport', 'Russian Federation', '874.617.5668x69878', '(399)820-6418x0071', 'angie04@oconnell.com', '2020-02-09', 'http://oconnor.com/'] <class 'list'>\n",
      "['75', 'D01Af0AF7cBbFeA', 'Regina', 'Stein', 'Guzman-Brown', 'Raystad', 'Solomon Islands', '001-469-848-0724x4407', '001-085-360-4426x00357', 'zrosario@rojas-hardin.net', '2022-01-15', 'http://www.johnston.info/'] <class 'list'>\n",
      "['76', 'd40e89dCade7b2F', 'Debra', 'Riddle', 'Chang, Aguirre and Leblanc', 'Colinhaven', 'United States Virgin Islands', '+1-768-182-6014x14336', '(303)961-4491', 'shieldskerry@robles.com', '2020-07-11', 'http://kaiser.info/'] <class 'list'>\n",
      "['77', 'BF6a1f9bd1bf8DE', 'Brittany', 'Zuniga', 'Mason-Hester', 'West Reginald', 'Kyrgyz Republic', '(050)136-9025', '001-480-851-2496x0157', 'mchandler@cochran-huerta.org', '2021-07-24', 'http://www.boyle.com/'] <class 'list'>\n",
      "['78', 'FfaeFFbbbf280db', 'Cassidy', 'Mcmahon', 'Mcguire, Huynh and Hopkins', 'Lake Sherryborough', 'Myanmar', '5040771311', '684-682-0021x1326', 'katrinalane@fitzgerald.com', '2020-10-21', 'https://hurst.com/'] <class 'list'>\n",
      "['79', 'CbAE1d1e9a8dCb1', 'Laurie', 'Pennington', 'Sanchez, Marsh and Hale', 'Port Katherineville', 'Dominica', '007.155.3406x553', '+1-809-862-5566x277', 'cookejill@powell.com', '2020-06-08', 'http://www.hebert.com/'] <class 'list'>\n",
      "['80', 'A7F85c1DE4dB87f', 'Alejandro', 'Blair', 'Combs, Waller and Durham', 'Thomasland', 'Iceland', '(690)068-4641x51468', '555.509.8691x2329', 'elizabethbarr@ewing.com', '2020-09-19', 'https://mercado-blevins.com/'] <class 'list'>\n",
      "['81', 'D6CEAfb3BDbaa1A', 'Leslie', 'Jennings', 'Blankenship-Arias', 'Coreybury', 'Micronesia', '629.198.6346', '075.256.0829', 'corey75@wiggins.com', '2021-11-13', 'https://www.juarez.com/'] <class 'list'>\n",
      "['82', 'Ebdb6F6F7c90b69', 'Kathleen', 'Mckay', 'Coffey, Lamb and Johnson', 'Lake Janiceton', 'Saint Vincent and the Grenadines', '(733)910-9968', '(691)247-4128x0665', 'chloelester@higgins-wilkinson.com', '2021-09-12', 'http://www.owens-mooney.com/'] <class 'list'>\n",
      "['83', 'E8E7e8Cfe516ef0', 'Hunter', 'Moreno', 'Fitzpatrick-Lawrence', 'East Clinton', 'Isle of Man', '(733)833-6754', '001-761-013-7121', 'isaac26@benton-finley.com', '2020-12-28', 'http://walls.info/'] <class 'list'>\n",
      "['84', '78C06E9b6B3DF20', 'Chad', 'Davidson', 'Garcia-Jimenez', 'South Joshuashire', 'Oman', '8275702958', '(804)842-4715', 'justinwalters@jimenez.com', '2021-11-15', 'http://www.garner-oliver.com/'] <class 'list'>\n",
      "['85', '03A1E62ADdeb31c', 'Corey', 'Holt', 'Mcdonald, Bird and Ramirez', 'New Glenda', 'Fiji', '001-439-242-4986x7918', '3162708934', 'maurice46@morgan.com', '2020-02-18', 'http://www.watson.com/'] <class 'list'>\n",
      "['86', 'C6763c99d0bd16D', 'Emma', 'Cunningham', 'Stephens Inc', 'North Jillianview', 'New Zealand', '128-059-0206x60217', '(312)164-4545x2284', 'walter83@juarez.org', '2022-05-13', 'http://www.reid.info/'] <class 'list'>\n",
      "['87', 'ebe77E5Bf9476CE', 'Duane', 'Woods', 'Montoya-Miller', 'Lyonsberg', 'Maldives', '(636)544-7783x7288', '(203)287-1003x5932', 'kmercer@wagner.com', '2020-07-21', 'http://murray.org/'] <class 'list'>\n",
      "['88', 'E4Bbcd8AD81fC5f', 'Alison', 'Vargas', 'Vaughn, Watts and Leach', 'East Cristinabury', 'Benin', '365-273-8144', '053-308-7653x6287', 'vcantu@norton.com', '2020-11-10', 'http://mason.info/'] <class 'list'>\n",
      "['89', 'efeb73245CDf1fF', 'Vernon', 'Kane', 'Carter-Strickland', 'Thomasfurt', 'Yemen', '114-854-1159x555', '499-608-4612', 'hilljesse@barrett.info', '2021-04-15', 'http://www.duffy-hensley.net/'] <class 'list'>\n",
      "['90', '37Ec4B395641c1E', 'Lori', 'Flowers', 'Decker-Mcknight', 'North Joeburgh', 'Namibia', '679.415.1210', '945-842-3659x4581', 'tyrone77@valenzuela.info', '2021-01-09', 'http://www.deleon-crosby.com/'] <class 'list'>\n",
      "['91', '5ef6d3eefdD43bE', 'Nina', 'Chavez', 'Byrd-Campbell', 'Cassidychester', 'Bhutan', '053-344-3205', '+1-330-920-5422x571', 'elliserica@frank.com', '2020-03-26', 'https://www.pugh.com/'] <class 'list'>\n",
      "['92', '98b3aeDcC3B9FF3', 'Shane', 'Foley', 'Rocha-Hart', 'South Dannymouth', 'Hungary', '+1-822-569-0302', '001-626-114-5844x55073', 'nsteele@sparks.com', '2021-07-06', 'https://www.holt-sparks.com/'] <class 'list'>\n",
      "['93', 'aAb6AFc7AfD0fF3', 'Collin', 'Ayers', 'Lamb-Peterson', 'South Lonnie', 'Anguilla', '404-645-5351x012', '001-257-582-8850x8516', 'dudleyemily@gonzales.biz', '2021-06-29', 'http://www.ruiz.com/'] <class 'list'>\n",
      "['94', '54B5B5Fe9F1B6C5', 'Sherry', 'Young', 'Lee, Lucero and Johnson', 'Frankchester', 'Solomon Islands', '158-687-1764', '(438)375-6207x003', 'alan79@gates-mclaughlin.com', '2021-04-04', 'https://travis.net/'] <class 'list'>\n",
      "['95', 'BE91A0bdcA49Bbc', 'Darrell', 'Douglas', 'Newton, Petersen and Mathis', 'Daisyborough', 'Mali', '001-084-845-9524x1777', '001-769-564-6303', 'grayjean@lowery-good.com', '2022-02-17', 'https://banks.biz/'] <class 'list'>\n",
      "['96', 'cb8E23e48d22Eae', 'Karl', 'Greer', 'Carey LLC', 'East Richard', 'Guyana', '(188)169-1674x58692', '001-841-293-3519x614', 'hhart@jensen.com', '2022-01-30', 'http://hayes-perez.com/'] <class 'list'>\n",
      "['97', 'CeD220bdAaCfaDf', 'Lynn', 'Atkinson', 'Ware, Burns and Oneal', 'New Bradview', 'Sri Lanka', '+1-846-706-2218', '605.413.3198', 'vkemp@ferrell.com', '2021-07-10', 'https://novak-allison.com/'] <class 'list'>\n",
      "['98', '28CDbC0dFe4b1Db', 'Fred', 'Guerra', 'Schmitt-Jones', 'Ortegaland', 'Solomon Islands', '+1-753-067-8419x7170', '+1-632-666-7507x92121', 'swagner@kane.org', '2021-09-18', 'https://www.ross.com/'] <class 'list'>\n",
      "['99', 'c23d1D9EE8DEB0A', 'Yvonne', 'Farmer', 'Fitzgerald-Harrell', 'Lake Elijahview', 'Aruba', '(530)311-9786', '001-869-452-0943x12424', 'mccarthystephen@horn-green.biz', '2021-08-11', 'http://watkins.info/'] <class 'list'>\n",
      "['100', '2354a0E336A91A1', 'Clarence', 'Haynes', 'Le, Nash and Cross', 'Judymouth', 'Honduras', '(753)813-6941', '783.639.1472', 'colleen91@faulkner.biz', '2020-03-11', 'http://www.hatfield-saunders.net/'] <class 'list'>\n"
     ]
    }
   ],
   "source": [
    "import csv\n",
    "csv_file_path='customers-100.csv'\n",
    "with open (csv_file_path,'r',newline='') as csv_file:\n",
    "    csv_reader=csv.reader(csv_file)\n",
    "    for row in csv_reader:\n",
    "        print(row,type(row))"
   ]
  },
  {
   "cell_type": "code",
   "execution_count": null,
   "metadata": {},
   "outputs": [],
   "source": [
    "csv_file_path= 'sample_output_csv'\n",
    "\n",
    "data=[\n",
    "    {\"name\":\"sawani\",\"age\":22,\"city\":\"matugama\"}\n",
    "]\n",
    "fieldNames=[\"Name\",\"Age\",\"City\"]\n"
   ]
  },
  {
   "cell_type": "code",
   "execution_count": 2,
   "metadata": {},
   "outputs": [],
   "source": [
    "import csv\n",
    "\n",
    "csv_path = \"my_csv_file.csv\"\n",
    "\n",
    "data =[{\"Name\": \"John Doe\", \"Age\":39, \"City\": \"New York\"},\n",
    "       {\"Name\":\"Jane Smith\", \"Age\":29, \"City\": \"Los Angeles\"},\n",
    "       {\"Name\":\"Bobby John\", \"Age\":\"38\", \"City\": \"Chicago\"}]\n",
    "\n",
    "field_names =[\"Name\",\"Age\",\"City\"]\n",
    "\n",
    "with open(csv_path, 'w', newline='') as csvfile:\n",
    "    writer = csv.DictWriter(csvfile, fieldnames=field_names)\n",
    "    writer.writeheader()\n",
    "\n",
    "    for row in data:\n",
    "        writer.writerow(row)"
   ]
  }
 ],
 "metadata": {
  "kernelspec": {
   "display_name": "Python 3",
   "language": "python",
   "name": "python3"
  },
  "language_info": {
   "codemirror_mode": {
    "name": "ipython",
    "version": 3
   },
   "file_extension": ".py",
   "mimetype": "text/x-python",
   "name": "python",
   "nbconvert_exporter": "python",
   "pygments_lexer": "ipython3",
   "version": "3.13.0"
  }
 },
 "nbformat": 4,
 "nbformat_minor": 2
}
